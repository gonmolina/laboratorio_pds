{
 "cells": [
  {
   "cell_type": "markdown",
   "id": "1d3af84f-f3f5-4fc2-be31-9f89303d7494",
   "metadata": {
    "editable": true,
    "slideshow": {
     "slide_type": "slide"
    },
    "tags": []
   },
   "source": [
    "# Análisis frecuencial de señales usando ventanas"
   ]
  },
  {
   "cell_type": "markdown",
   "id": "d4f77e40-7247-43b4-b0b1-39f17725dfbb",
   "metadata": {
    "editable": true,
    "slideshow": {
     "slide_type": "slide"
    },
    "tags": []
   },
   "source": [
    "Desde el punto de vista computacional, la transformada de Fourier en Tiempo Discreto (DTFT), definida como:\n",
    "\n",
    "$$X(\\omega)=\\sum_{n=-\\infty}^{\\infty} x(n)e^{-j\\omega n}$$\n",
    "\n",
    "presenta dos problemas:\n",
    "\n",
    "- el hecho de que presenta una suma infinita de términos\n",
    "- en el intervalo fundamental de frecuencias $-\\pi\\le\\omega <\\pi$ hay infinitas frecuencias por lo que no puede computarse la transformada para todas las frecuencias"
   ]
  },
  {
   "cell_type": "markdown",
   "id": "5fa546ba-1499-423c-982e-4f197c834f6b",
   "metadata": {
    "editable": true,
    "slideshow": {
     "slide_type": "slide"
    },
    "tags": []
   },
   "source": [
    "Como consecuencia de la primer afirmación cuando se tienen señales de duración infinita \n",
    "pueden aproximarse por señales de duración finita $\\tilde x$ que se obtienen multiplicando \n",
    "la señal original $x(n)$ por una ventana $w(n)$ de longitud finita $L$. "
   ]
  },
  {
   "cell_type": "markdown",
   "id": "3c1ba451-5037-4c6d-ba70-18cd40525fb0",
   "metadata": {
    "editable": true,
    "slideshow": {
     "slide_type": "slide"
    },
    "tags": []
   },
   "source": [
    "Es decir:\n",
    "\n",
    "$$\\tilde x(n)=x(n)w(n)$$\n",
    "\n",
    "y entonces podemos hacer una aproximación como:\n",
    "\n",
    "$$X(\\omega)\\approx \\sum_{n=0}^{L-1} \\tilde x(n)e^{-j\\omega n}$$"
   ]
  },
  {
   "cell_type": "markdown",
   "id": "3cafcf38",
   "metadata": {
    "editable": true,
    "slideshow": {
     "slide_type": "subslide"
    },
    "tags": []
   },
   "source": [
    "y entonces podemos hacer una aproximación como:\n",
    "\n",
    "$$X(\\omega)\\approx \\sum_{n=0}^{L-1} \\tilde x(n)e^{-j\\omega n}$$"
   ]
  },
  {
   "cell_type": "markdown",
   "id": "dbe5c4a6-ddbf-4299-8088-b9439e36feeb",
   "metadata": {
    "editable": true,
    "slideshow": {
     "slide_type": "slide"
    },
    "tags": []
   },
   "source": [
    "El problema de las infinitas frecuencias es fácil de resolver\n",
    "ya que puede computarse en un número finito de frecuencias equi-espaciadas de la forma:\n",
    "\n",
    "$$\\omega_k = \\frac{2\\pi k}{N}, \\quad k= 0, 1, \\ldots, N-1$$  "
   ]
  },
  {
   "cell_type": "markdown",
   "id": "c178ba8d-3979-49e4-b6b3-ab83356d4d3b",
   "metadata": {
    "editable": true,
    "slideshow": {
     "slide_type": "fragment"
    },
    "tags": []
   },
   "source": [
    "- Si la señal es analógica, la misma se pasa usualmente a través de un **filtro antialiasing**, \n",
    "y luego se muestrea con una frecuencia $F_s\\le 2B$, \n",
    "donde $B$ es el ancho de banda de la señal filtra. "
   ]
  },
  {
   "cell_type": "markdown",
   "id": "6bf31653-e3e1-4447-965b-f4929a4db702",
   "metadata": {
    "editable": true,
    "slideshow": {
     "slide_type": "fragment"
    },
    "tags": []
   },
   "source": [
    "- La máxima frecuencia en la señal muestreada es $F_s/2$.  "
   ]
  },
  {
   "cell_type": "markdown",
   "id": "1332a7d0-a209-410b-8a5f-5bf8cdbdd177",
   "metadata": {
    "editable": true,
    "slideshow": {
     "slide_type": "fragment"
    },
    "tags": []
   },
   "source": [
    "- Luego, por las razones de implementación práctica mencionadas \n",
    "se limita la duración de la señal a un intervalo de tiempo $T_0=LT$, \n",
    "donde $L$ es el número de muestras y $T=\\dfrac{1}{F_s}$ es el periodo de muestreo."
   ]
  },
  {
   "cell_type": "markdown",
   "id": "7fa83404-3070-40e4-9b0f-c6e283c37739",
   "metadata": {
    "editable": true,
    "slideshow": {
     "slide_type": "subslide"
    },
    "tags": []
   },
   "source": [
    "Veremos que la longitud finita de la ventana usada para truncar\n",
    "la señal pone límite en la **resolución en frecuencia**, \n",
    "es decir en la capacidad de distinguir entre dos componentes de frecuencia \n",
    "que están separadas  menos de $\\dfrac{1}{T_0}=\\dfrac{1}{L.T}$ en frecuencia."
   ]
  },
  {
   "cell_type": "markdown",
   "id": "ac5b785a-b45b-4f2c-b0cd-0edd63dd08ba",
   "metadata": {
    "editable": true,
    "slideshow": {
     "slide_type": "slide"
    },
    "tags": []
   },
   "source": [
    "**Sea $x(n)$ la señal a analizar.**\n",
    "\n",
    "Limitar la duración de la señal a $L$ muestras en el intervalo $0\\leq n \\leq L-1$ \n",
    "es equivalente a multiplicar a $x(n)$ por una función ventana rectangular $w(n)$ de longitud $L$, \n",
    "es decir:\n",
    "\n",
    "$$\\tilde x(n)=x(n)w(n)$$\n",
    "\n",
    "donde:\n",
    "\n",
    "$$w(n)=\\left\\{ \n",
    " \\begin{array}{l}\n",
    "   1\\quad 0\\leq n \\leq L-1\\\\\n",
    "   0\\quad \\text{coc} \n",
    "   \\end{array}\n",
    "   \\right.\n",
    "$$"
   ]
  },
  {
   "cell_type": "markdown",
   "id": "d8a7f247-211b-4b0a-bb86-ddf6d5baae96",
   "metadata": {
    "editable": true,
    "slideshow": {
     "slide_type": "subslide"
    },
    "tags": []
   },
   "source": [
    "El espectro de la señal $x(n)$ estará entonces relacionado con el espectro de $\\tilde x(n)$ a través de la convolución (periódica)\n",
    "\n",
    "$$\\tilde X(n)=\\frac{1}{2\\pi}\\int_{\\infty}^{\\infty} X(\\lambda)W(\\omega-\\lambda)d\\lambda$$\n",
    "\n",
    "Es claro entonces que la forma del espectro de la ventana $W(\\omega)$ afectará al espectro $\\tilde X(\\omega)$ con el cuál se quiere\n",
    "aproximar a $X(\\omega)$."
   ]
  },
  {
   "cell_type": "markdown",
   "id": "f5c8fd57-33bd-4490-9b3a-bd5b068f8cbc",
   "metadata": {
    "editable": true,
    "slideshow": {
     "slide_type": "subslide"
    },
    "tags": []
   },
   "source": [
    "Para comprender mejor esto analicemos en primera instancia el caso de la ventana rectangular. \n",
    "Como ya vimos:\n",
    "\n",
    "$$W(\\omega)=e^{\\frac{-j\\omega(L-1)}{2}}\\frac{\\sin(\\omega L/1}{\\sin(\\omega/2)}$$\n"
   ]
  },
  {
   "cell_type": "markdown",
   "id": "b24ddb38",
   "metadata": {
    "editable": true,
    "slideshow": {
     "slide_type": "subslide"
    },
    "tags": []
   },
   "source": [
    "Por lo que:\n",
    "\n",
    "$$ \n",
    "\\begin{align}\n",
    "|W(\\omega)|&=\\left\\{\n",
    "  \\begin{align}\n",
    "    L \\omega=0&\\\\ \n",
    "    \\left|\\frac{\\sin(\\omega L/2)}{\\sin(\\omega/2)}\\right|&\\quad\\text{coc}\n",
    "    \\end{align}\n",
    "  \\right.\\\\\n",
    "\\angle W(\\omega)&=-\\frac{\\omega}{2}(L-1)+\\angle\\frac{\\sin(\\omega L/2)}{\\sin(\\omega/2)}\n",
    "\\end{align}\n",
    "$$\n"
   ]
  },
  {
   "cell_type": "markdown",
   "id": "297c2a07-997f-4665-bb84-7b6d23d627bf",
   "metadata": {
    "editable": true,
    "slideshow": {
     "slide_type": "slide"
    },
    "tags": []
   },
   "source": [
    "De la convolución anterior vemos que para tener:"
   ]
  },
  {
   "cell_type": "markdown",
   "id": "f725c60a-81b4-4ad4-a233-18373f021570",
   "metadata": {
    "editable": true,
    "slideshow": {
     "slide_type": "fragment"
    },
    "tags": []
   },
   "source": [
    "$$\\tilde X(\\omega)=X(\\omega)$$"
   ]
  },
  {
   "cell_type": "markdown",
   "id": "a18a2c6b-2faa-48b7-89af-ddb50edd86ac",
   "metadata": {
    "editable": true,
    "slideshow": {
     "slide_type": "fragment"
    },
    "tags": []
   },
   "source": [
    "deberá ser $W(\\omega)=2\\pi\\delta(\\omega)$, para lo cuál $L=\\infty$, o sea:"
   ]
  },
  {
   "cell_type": "markdown",
   "id": "7d7799d7-8e30-4a2d-ae04-bf5173233b9a",
   "metadata": {
    "editable": true,
    "slideshow": {
     "slide_type": "fragment"
    },
    "tags": []
   },
   "source": [
    "$$\\tilde x(n)=x(n)$$"
   ]
  },
  {
   "cell_type": "markdown",
   "id": "9e67fb78-bf11-4cb2-9818-ac6ad8a026a6",
   "metadata": {
    "editable": true,
    "slideshow": {
     "slide_type": "slide"
    },
    "tags": []
   },
   "source": [
    "En efecto, calculemos el espectro de una ventana rectangular de longitud infinita, es decir:"
   ]
  },
  {
   "cell_type": "markdown",
   "id": "d563c5a7-4d55-4652-bd78-46d5da96f78e",
   "metadata": {
    "editable": true,
    "slideshow": {
     "slide_type": "fragment"
    },
    "tags": []
   },
   "source": [
    "$$w(n)=1, \\qquad \\forall n$$"
   ]
  },
  {
   "cell_type": "markdown",
   "id": "183db305-17e2-4fe0-9134-deca60c676f5",
   "metadata": {
    "editable": true,
    "slideshow": {
     "slide_type": "fragment"
    },
    "tags": []
   },
   "source": [
    "Podemos ver que la señal es periódica con período $N=1$.\n",
    "Los coeficientes de su serie de Fourier en TD vienen dados por:"
   ]
  },
  {
   "cell_type": "markdown",
   "id": "e6c88e4c",
   "metadata": {
    "editable": true,
    "slideshow": {
     "slide_type": "fragment"
    },
    "tags": []
   },
   "source": [
    "\n",
    "$$c_l=\\frac{1}{N}\\sum_{n=0}^{N-1}w(n)e^{-j 2\\pi ln/N}, \\quad \\text{con}\\quad l=0,1,2,\\ldots, N-1$$\n",
    "\n",
    "Que en esta caso resulta en un único coeficiente:\n",
    "\n",
    "$$c_0=\\sum_{n=0}^{0} w(n)e^{-j2\\pi 0n}=1$$"
   ]
  },
  {
   "cell_type": "markdown",
   "id": "d4386144-33d2-41a9-a941-b5bbe9fac4f5",
   "metadata": {
    "editable": true,
    "slideshow": {
     "slide_type": "slide"
    },
    "tags": []
   },
   "source": [
    "Recordemos que la transformada de Fourier en TD de una señal periódica viene dada por \n",
    "\n",
    "$$ W(w)=2\\pi \\sum_{k=0}^{N-1}c_k\\sum_{l=-\\infty}^{\\infty}\\delta\\left(\\omega-\\frac{2\\pi k}{N}-2\\pi l\\right) $$\n"
   ]
  },
  {
   "cell_type": "markdown",
   "id": "bc21e30b",
   "metadata": {
    "editable": true,
    "slideshow": {
     "slide_type": "fragment"
    },
    "tags": []
   },
   "source": [
    "\n",
    "Para el caso del ejemplo resulta entonces \n",
    "\n",
    "$$W(w)=2\\pi\\sum_{l=-\\infty}^{\\infty} \\delta (\\omega - 2\\pi l)$$"
   ]
  },
  {
   "cell_type": "markdown",
   "id": "38cbe4b7-4972-43a5-99d6-c89fb233a305",
   "metadata": {
    "editable": true,
    "slideshow": {
     "slide_type": "slide"
    },
    "tags": []
   },
   "source": [
    "El hecho de que $W(\\omega)$ no sea $\\delta(\\omega)$ trae varios problemas. Consideremos una secuencia $x(n)$ que consiste de una sola\n",
    "sinusoide: \n",
    "\n",
    "$$x(n)= \\cos\\omega_0n$$\n",
    "\n",
    "El espectro de la señal de duración finita $\\tilde x(n)$ viene dado por (Teorema de Modulación):\n",
    "\n",
    "$$\\tilde X(n)=\\frac{1}{2}\\left[W(\\omega-\\omega_0)W(\\omega+\\omega_0)\\right]$$\n"
   ]
  },
  {
   "cell_type": "markdown",
   "id": "73fa1337-a3b8-436a-a8de-2f4eda796818",
   "metadata": {
    "editable": true,
    "slideshow": {
     "slide_type": "subslide"
    },
    "tags": []
   },
   "source": [
    "Como se ve en la figura anterior el espectro $\\tilde X(\\omega)$ de no está\n",
    "localizado en una única frecuencia, sino que está distribuido en todo el rango de frecuencias.\n",
    "\n",
    "Este fenómeno (debido a la ventana) se denomina **leakage**. \n",
    "El ancho del lóbulo principal en el espectro de la ventana determina la resolución en frecuencia."
   ]
  },
  {
   "cell_type": "markdown",
   "id": "a4d504d4",
   "metadata": {
    "editable": true,
    "slideshow": {
     "slide_type": "subslide"
    },
    "tags": []
   },
   "source": [
    "$$x(n)=\\cos(\\omega_1n)+\\cos(\\omega_2n)$$\n",
    "\n",
    "El espectro de la señal truncada a $L$ muestras en el rango $0\\leq n \\leq L-1$ es:  \n",
    "\n",
    "$$\\tilde X(\\omega) = \\frac{1}{2}\\left[W(\\omega-\\omega_1)+W(\\omega+\\omega_1)+W(\\omega-\\omega_2)+W(\\omega+\\omega_2)\\right]$$"
   ]
  },
  {
   "cell_type": "markdown",
   "id": "393d0064",
   "metadata": {
    "editable": true,
    "slideshow": {
     "slide_type": "subslide"
    },
    "tags": []
   },
   "source": [
    "$$x(n)=\\cos(\\omega_1n)+\\cos(\\omega_2n)$$\n"
   ]
  },
  {
   "cell_type": "markdown",
   "id": "3d60c6e3",
   "metadata": {
    "editable": true,
    "slideshow": {
     "slide_type": "fragment"
    },
    "tags": []
   },
   "source": [
    "\n",
    "El espectro de la señal truncada a $L$ muestras en el rango $0\\leq n \\leq L-1$ es:  \n",
    "\n",
    "$$\\tilde X(\\omega) = \\frac{1}{2}\\left[W(\\omega-\\omega_1)+W(\\omega+\\omega_1)+W(\\omega-\\omega_2)+W(\\omega+\\omega_2)\\right]$$"
   ]
  },
  {
   "cell_type": "markdown",
   "id": "5230dcfc-c186-42cd-86e1-80456efa9171",
   "metadata": {
    "editable": true,
    "slideshow": {
     "slide_type": "slide"
    },
    "tags": []
   },
   "source": [
    "Como el espectro de $W(\\omega)$ tiene el primer cruce por cero en:\n",
    "\n",
    "$$\\omega=\\frac{2\\pi}{L}$$\n",
    "\n",
    "Entonces si $|\\omega_1-\\omega_2| < 4\\pi/L$, las dos funciones $W(\\omega-\\omega_1)$ \n",
    "y $W(\\omega-\\omega_2)$ se superponen y en consecuencia las dos líneas espectrales de \n",
    "$x(n)$ no se distinguen.\n"
   ]
  },
  {
   "cell_type": "markdown",
   "id": "87a138a5",
   "metadata": {
    "editable": true,
    "slideshow": {
     "slide_type": "subslide"
    },
    "tags": []
   },
   "source": [
    "Sólo si $|\\omega_1-\\omega_2|\\geq 4\\pi/L$ \n",
    "(donde $4\\pi/L$ es el ancho del lóbulo principal del espectro de la ventana rectangular) \n",
    "se verán dos lóbulos separados en el espectro $\\tilde X(w)$.\n",
    "\n",
    "Es decir, **la capacidad para distinguir líneas espectrales de diferente**\n",
    " **frecuencia está limitada por el ancho del lóbulo principal de la ventana**.\n"
   ]
  },
  {
   "cell_type": "markdown",
   "id": "3512c487-6e8d-4cb8-bc5f-1e67debfef44",
   "metadata": {
    "editable": true,
    "slideshow": {
     "slide_type": "slide"
    },
    "tags": []
   },
   "source": [
    "Consideremos ahora el **ejemplo** de una señal con tres componentes sinusoidales, dos de ellas con frecuencias muy próximas. \n",
    "\n",
    "$$x(n)= \\cos(0.2\\omega n) + \\cos(0.22\\omega n) + \\cos(0.6\\omega n)$$\n"
   ]
  },
  {
   "cell_type": "markdown",
   "id": "08286b18-dfd3-46a0-aa47-142ea3ada050",
   "metadata": {
    "editable": true,
    "slideshow": {
     "slide_type": "fragment"
    },
    "tags": []
   },
   "source": [
    "El Espectro de Módulo usando ventana rectangular, para $L = 25$, y $L = 50$ resulta"
   ]
  },
  {
   "cell_type": "markdown",
   "id": "db63624e-9963-45ef-8a44-0326631302f8",
   "metadata": {
    "editable": true,
    "slideshow": {
     "slide_type": "fragment"
    },
    "tags": []
   },
   "source": [
    "De donde puede observarse que no se distinguen las líneas espectrales \n",
    "correspondientes a las frecuencias próximas $\\omega_1$ y $\\omega_2$.\n",
    "\n",
    "Si consideramos en cambio $L = 100$, las líneas espectrales son distinguibles."
   ]
  },
  {
   "cell_type": "markdown",
   "id": "e65a4ddf-ad6e-4a78-81ba-4c41eadd4ea3",
   "metadata": {
    "editable": true,
    "slideshow": {
     "slide_type": "subslide"
    },
    "tags": []
   },
   "source": [
    "Para solucionar el problema del *leakage* se propone utilizar una ventana que tenga un espectro que se asemeje en mayor medida al impulso. \n",
    "Por ejemplo si consideramos la **ventana de Hann** (`hanning`):\n",
    "\n",
    "$$\n",
    "w(n)=\\left\\{\n",
    "  \\begin{array}{ll}\n",
    "   \\dfrac{1}{2}\\left(1-\\cos\\left(\\dfrac{2\\pi n}{L}\\right)\\right)&0\\geq n \\geq L-1\\\\\n",
    "   0 & \\text{c.o.c.}\n",
    "   \\end{array}\n",
    "  \\right.\n",
    "$$\n",
    "\n",
    "El espectro de módulo tiene las siguientes características:\n",
    "\n",
    "- Lóbulos laterales significativamente más pequeños que la ventana rectangular (menor leakage)\n",
    "- Lóbulo principal aproximadamente 2 veces más ancho que la ventana rectangular (peor resolución)"
   ]
  },
  {
   "cell_type": "markdown",
   "id": "8e481fb8-a7ed-4ba0-a1b6-ec03672e8a3c",
   "metadata": {
    "editable": true,
    "slideshow": {
     "slide_type": "subslide"
    },
    "tags": []
   },
   "source": [
    "Considerando el ejemplo con las tres componentes senoidales, pero usando una ventana Hann con los mismos valores de $L$jjj, los espectros resultan:\n",
    "\n",
    "$$\n",
    "w(n)=\\left\\{\n",
    "  \\begin{array}{ll}\n",
    "   \\dfrac{1}{2}\\left(1-\\cos\\left(\\dfrac{2\\pi n}{L}\\right)\\right)&0\\geq n \\geq L-1\\\\\n",
    "   0 & \\text{c.o.c.}\n",
    "   \\end{array}\n",
    "  \\right.\n",
    "$$\n",
    " PONER FIGURAS DE LA VENTANA DE HANN"
   ]
  },
  {
   "cell_type": "markdown",
   "id": "10b78260-a2ee-494c-aed4-1529ea849f72",
   "metadata": {
    "editable": true,
    "slideshow": {
     "slide_type": "subslide"
    },
    "tags": []
   },
   "source": [
    "Otra ventana, con un espectro similar al de la ventana de Hann es la **ventana de Hamming** (`hamming`), que se\n",
    "muestra a continuación:\n",
    "\n",
    "$$\n",
    "w(n)=\\left\\{\n",
    "  \\begin{array}{ll}\n",
    "   \\left(0.54-0.46\\cos\\left(\\dfrac{2\\pi n}{L}\\right)\\right)&0\\geq n \\geq L-1\\\\\n",
    "   0 & \\text{c.o.c.}\n",
    "   \\end{array}\n",
    "  \\right.\n",
    "$$\n",
    " PONER FIGURAS DE LA VENTANA DE HAMMING\n",
    " "
   ]
  },
  {
   "cell_type": "markdown",
   "id": "a941c001-4785-4358-880b-62e298d95d7b",
   "metadata": {
    "editable": true,
    "slideshow": {
     "slide_type": "slide"
    },
    "tags": []
   },
   "source": [
    "## Cómputo de la Transformada de Fourier en Tiempo Discreto para señales de longitud finita"
   ]
  },
  {
   "cell_type": "markdown",
   "id": "95f24787-e15c-495a-aed0-8a43d94ccfe8",
   "metadata": {
    "editable": true,
    "slideshow": {
     "slide_type": "slide"
    },
    "tags": []
   },
   "source": [
    "Sea $x(n)$ una señal causal de longitud finita $L$. Su DTFT viene dada por:\n",
    "\n",
    "$$\n",
    "X(\\omega)= \\sum_{n=0}^{L-1}x(n)e^{-j\\omega n}\n",
    "$$"
   ]
  },
  {
   "cell_type": "markdown",
   "id": "4e655c39-f656-4745-b0b7-80773d9d9685",
   "metadata": {
    "editable": true,
    "slideshow": {
     "slide_type": "subslide"
    },
    "tags": []
   },
   "source": [
    "Para solucionar el problema de que existen infinitas frecuencias en el intervalo fundamental $-\\pi\\le\\omega<\\pi$, calcularemos un número finito $N$ de frecuencias equiespaciadas de la forma\n",
    "\n",
    "$$\\omega_k=\\frac{2\\pi k}{N}, \\quad k=0,1,2,\\ldots, N-1$$\n",
    "\n",
    "Resulta entonces:\n",
    "\n",
    "$$\n",
    "X(\\omega)= \\sum_{n=0}^{L-1}x(n)e^{-j\\frac{2\\pi k\\omega n}{N}},\\quad k=0,1,2,\\ldots, N-1\n",
    "$$"
   ]
  },
  {
   "cell_type": "markdown",
   "id": "864fc149-8192-45f4-9961-ee0e4da0a883",
   "metadata": {
    "editable": true,
    "slideshow": {
     "slide_type": ""
    },
    "tags": []
   },
   "source": [
    "que puede escribirse como:"
   ]
  },
  {
   "cell_type": "markdown",
   "id": "49c02ec6-77db-409e-a839-244047a4e2c8",
   "metadata": {
    "editable": true,
    "slideshow": {
     "slide_type": "subslide"
    },
    "tags": []
   },
   "source": [
    "$$X(\\omega_0)=x(0)e^{-j\\frac{2\\pi\\times 0\\times 0}{N}}+x(1)e^{-j\\frac{2\\pi\\times 0\\times 1}{N}}+\\cdots+x(N)e^{-j\\frac{2\\pi\\times 0\\times (L-1)}{N}}$$\n",
    "$$x(\\omega_1)=x(0)e^{-j\\frac{2\\pi\\times 1\\times 0}{n}}+x(1)e^{-j\\frac{2\\pi\\times 1\\times 1}{n}}+\\cdots+x(n)e^{-j\\frac{2\\pi\\times 1\\times (l-1)}{n}}$$\n",
    "$$\\vdots$$\n",
    "$$x(\\omega_{N-1})=x(0)e^{-j\\frac{2\\pi\\times (N-1)\\times 0}{n}}+x(1)e^{-j\\frac{2\\pi\\times (N-1)\\times 1}{n}}+\\cdots+x(n)e^{-j\\frac{2\\pi\\times (N-1)\\times (l-1)}{n}}$$"
   ]
  },
  {
   "cell_type": "markdown",
   "id": "2ce2d683-8365-4149-be57-9778edefe6b3",
   "metadata": {
    "editable": true,
    "slideshow": {
     "slide_type": "subslide"
    },
    "tags": []
   },
   "source": [
    "En forma matricial sería:\n",
    "\n",
    "$$\n",
    "\\begin{bmatrix}\n",
    "X(\\omega_0)\\\\\n",
    "X(\\omega_1)\\\\\n",
    "\\vdots\\\\\n",
    "X(\\omega_{N-1})\n",
    "\\end{bmatrix}=\n",
    "\\begin{bmatrix}\n",
    "e^{-j\\frac{2\\pi\\times 0\\times 0}{N}} & e^{-j\\frac{2\\pi\\times 0\\times 1}{N}} & \\cdots & e^{-j\\frac{2\\pi\\times (N-1)\\times (L-1)}{N}}\\\\\n",
    "e^{-j\\frac{2\\pi\\times 1\\times 0}{N}} & e^{-j\\frac{2\\pi\\times 1\\times 1}{N}} & \\cdots & e^{-j\\frac{2\\pi\\times (N-1)\\times (L-1)}{N}}\\\\\n",
    "\\vdots & \\vdots & \\cdots & \\vdots\\\\\n",
    "e^{-j\\frac{2\\pi\\times (N-1)\\times 0}{N}} & e^{-j\\frac{2\\pi\\times (N-1)\\times 1}{N}} & \\cdots & e^{-j\\frac{2\\pi\\times (N-1)\\times (L-1)}{N}}\\\\\n",
    "\\end{bmatrix}\n",
    "\\begin{bmatrix}\n",
    "x(0)\\\\\n",
    "x(1)\\\\\n",
    "\\vdots\\\\\n",
    "x(n)\n",
    "\\end{bmatrix}\n",
    "$$\n",
    "\n",
    "que es muy facil de implementar con un algoritmo de computación.\n"
   ]
  },
  {
   "cell_type": "code",
   "execution_count": 2,
   "id": "c2dcc876-d965-4131-844e-cc2e8630d9c2",
   "metadata": {
    "editable": true,
    "slideshow": {
     "slide_type": "slide"
    },
    "tags": []
   },
   "outputs": [],
   "source": [
    "import numpy as np\n",
    "from scipy.fft import fftshift, fftfreq\n",
    "import matplotlib.pyplot as plt\n",
    "%matplotlib inline"
   ]
  },
  {
   "cell_type": "code",
   "execution_count": 3,
   "id": "9447665e-7399-4234-adf4-8a476c718111",
   "metadata": {
    "editable": true,
    "slideshow": {
     "slide_type": "subslide"
    },
    "tags": []
   },
   "outputs": [],
   "source": [
    "def dtft(x, N):\n",
    "    L=len(x)\n",
    "    k=np.linspace(0, N, N, endpoint=False)\n",
    "    k=k.reshape((N,1))\n",
    "    w=2*np.pi*k/N\n",
    "    n=np.linspace(0,L,L, endpoint=False)\n",
    "    n=n.reshape((1,L))\n",
    "    return (np.exp(-1j*(w@n)))@x, w"
   ]
  },
  {
   "cell_type": "code",
   "execution_count": 4,
   "id": "38bf9de3-83fe-47e3-89c6-56e0efc01889",
   "metadata": {
    "editable": true,
    "slideshow": {
     "slide_type": "subslide"
    },
    "tags": []
   },
   "outputs": [],
   "source": [
    "# Generamos la señal\n",
    "L=10\n",
    "n=np.linspace(0, L, L, endpoint=False).reshape((L,1))\n",
    "x=0.9**n\n"
   ]
  },
  {
   "cell_type": "code",
   "execution_count": 5,
   "id": "ed4c6ce7-8883-4e37-941f-240761b01555",
   "metadata": {
    "editable": true,
    "slideshow": {
     "slide_type": "subslide"
    },
    "tags": []
   },
   "outputs": [],
   "source": [
    "N=1024\n",
    "X, w=dtft(x,N)\n",
    "w1=fftfreq(N, 1)*2*np.pi"
   ]
  },
  {
   "cell_type": "code",
   "execution_count": 6,
   "id": "19ffad55-2091-4f76-b870-730e935aa4e4",
   "metadata": {
    "editable": true,
    "slideshow": {
     "slide_type": ""
    },
    "tags": [
     "hide-input"
    ]
   },
   "outputs": [
    {
     "data": {
      "image/png": "[encoded data removed]",
      "text/plain": [
       "<Figure size 600x400 with 2 Axes>"
      ]
     },
     "metadata": {},
     "output_type": "display_data"
    }
   ],
   "source": [
    "f, ax=plt.subplots(2,1, figsize=(6,4))\n",
    "ax[0].plot(w, np.abs(X))\n",
    "ax[0].grid(True)\n",
    "ax[0].set_ylabel(\"módulo\")\n",
    "ax[0].set_title(r\"|X($\\omega$)|\");\n",
    "ax[1].grid(True)\n",
    "ax[1].set_xlabel(\"rad/seg\")\n",
    "ax[1].set_ylabel(\"módulo\")\n",
    "ax[1].plot(fftshift(w1),fftshift(np.abs(X)))\n",
    "f.tight_layout()\n"
   ]
  },
  {
   "cell_type": "markdown",
   "id": "126aa98f-e891-4dc4-b807-5ab5550e70fe",
   "metadata": {
    "editable": true,
    "slideshow": {
     "slide_type": "subslide"
    },
    "tags": []
   },
   "source": [
    "## Transformada ideal"
   ]
  },
  {
   "cell_type": "markdown",
   "id": "dd63aab5",
   "metadata": {},
   "source": [
    "\n",
    "Consideremos ahora la señal de longitud infinita\n",
    "$$x_1(n)= (0.9)^n\\mu(n)$$\n",
    "\n",
    "Podemos pensar que $x(n)$ en el ejemplo anterior es una versión truncada con una ventana rectangular de longitud $L$ de la señal de longitud infinita $x_1(n)$. Calculemos la DTFT de $x_1(n)$.\n"
   ]
  },
  {
   "cell_type": "markdown",
   "id": "499a55df",
   "metadata": {},
   "source": [
    "Resulta\n",
    "\n",
    "$$X_1(\\omega)=\\sum_{n=0}^{\\infty}(0.9e^{-j\\omega})^n=\\frac{1}{1-0.9e^{-j\\omega}}$$"
   ]
  },
  {
   "cell_type": "markdown",
   "id": "a92e8121",
   "metadata": {},
   "source": [
    "\n",
    "Grafiquemos el espectro de módulo de $x_1(n)$ y de $x(n)$ para distintos valores de $L$."
   ]
  },
  {
   "cell_type": "code",
   "execution_count": 7,
   "id": "3ed308a4-b446-463e-9781-0266ca81cdcd",
   "metadata": {},
   "outputs": [],
   "source": [
    "winf=np.linspace(-np.pi,np.pi,1024, endpoint=True)\n",
    "X1=1/(1-(0.9*(np.exp(-1j*winf))))\n",
    "\n",
    "L1=10\n",
    "n1=np.linspace(0, L1, L1, endpoint=False).reshape((L1,1))\n",
    "xl1=0.9**n1\n",
    "Xl1,_=dtft(xl1,N)\n",
    "\n",
    "L2=20\n",
    "n2=np.linspace(0, L2, L2, endpoint=False).reshape((L2,1))\n",
    "xl2=0.9**n2\n",
    "Xl2,_=dtft(xl2,N)\n",
    "\n",
    "L3=50\n",
    "n3=np.linspace(0, L3, L3, endpoint=False).reshape((L3,1))\n",
    "xl3=0.9**n3\n",
    "Xl3,_=dtft(xl3,N)\n"
   ]
  },
  {
   "cell_type": "code",
   "execution_count": 8,
   "id": "ae2b3fee-693b-4c39-b5ce-c568b48014a6",
   "metadata": {},
   "outputs": [
    {
     "data": {
      "image/png": "[encoded data removed]",
      "text/plain": [
       "<Figure size 600x300 with 1 Axes>"
      ]
     },
     "metadata": {},
     "output_type": "display_data"
    }
   ],
   "source": [
    "f, ax=plt.subplots(1,1, figsize=(6,3))\n",
    "ax.plot(winf, np.abs(X1), label=r\"$L=\\infty$\")\n",
    "ax.plot(winf, np.abs(fftshift(Xl1)),  label=r\"$L=10$\")\n",
    "ax.plot(winf, np.abs(fftshift(Xl2)), label=r\"$L=20$\")\n",
    "ax.plot(winf, np.abs(fftshift(Xl3)), ls=\":\", label=r\"$L=50$\")\n",
    "ax.grid(True)\n",
    "ax.set_xlabel(\"rad/seg\")\n",
    "ax.set_ylabel(\"módulo\")\n",
    "ax.legend()\n",
    "ax.set_title(r\"|X($\\omega$)|\");"
   ]
  },
  {
   "cell_type": "markdown",
   "id": "9d4ae48c-793b-43e9-a4ee-da559fd91103",
   "metadata": {},
   "source": [
    "## Transformada Discreta de Fourier\n"
   ]
  },
  {
   "cell_type": "markdown",
   "id": "f1eb1e27-ed75-4752-9b4e-5ca439a813ce",
   "metadata": {},
   "source": [
    "Vimos que la DTFT de una señal causal $x(n)$, de longitud finita $L$,\n",
    "calculada en $N$ frecuencias equi-espaciadas de la forma:\n",
    "\n",
    "$$ \\omega_k=\\frac{2\\pi k}{N}, \\quad k=1,2,\\cdots, N-1$$\n",
    "\n",
    "viene dada por:\n",
    "\n",
    "$$\\sum_{n=0}^{L-1}x(n)e^{-j\\frac{2\\pi kn}{N}}\\quad k=1,2,\\cdots, N-1$$\n",
    "\n",
    "Puede pensarse entonces que son muestras del espectro $X(\\omega_k)$ son muestras del espectro $X(\\omega)$ en las frecuencias $\\omega_k$.\n"
   ]
  },
  {
   "cell_type": "markdown",
   "id": "f906f454-2fab-42da-8465-3517f03a42f8",
   "metadata": {},
   "source": [
    "Se define entonces la **Transformada Discreta de Fourier con N puntos de la señal $x(n)$** como\n",
    "\n",
    "$$X(k)\\triangleq \\sum_{n=0}^{N-1}x(n)e^{-j\\frac{2\\pi kn}{N}}, \\quad k=0,1,2,\\cdots, N-1$$"
   ]
  },
  {
   "cell_type": "markdown",
   "id": "158cf03f-9e69-4906-8fe5-df40cbe7827d",
   "metadata": {},
   "source": [
    "Vemos, comparando las expresiones anteriores, que si la señal es de longitud $L\\leq N$, \n",
    "la Transformada Discreta de Fourier con $N$ puntos puede pensarse como muestras del espectro $X(\\omega)$\n",
    "en las frecuencias equi-espaciadas $\\omega_k$. \n",
    "Si en cambio no se verifica que $L\\leq N$, la DFT con $N$ puntos no puede pensarse como muestras del espectro $X(\\omega)$ en $\\omega_k$. "
   ]
  },
  {
   "cell_type": "markdown",
   "id": "09eb129d-f77a-4eda-9577-aac940b4e5ad",
   "metadata": {},
   "source": [
    "No es difícil probar que la DFT con $N$ puntos $X(k)$ es periódica con período $N$. En efecto:\n",
    "\n",
    "$$\n",
    "\\begin{array}{ll}\n",
    "X(k+N)=&\\sum_{n=0}^{N-1}x(n)e^{-j\\frac{2\\pi (k+N)n}{N}}\\\\\n",
    "&\\sum_{n=0}^{N-1}x(n)e^{-j\\frac{2\\pi kn}{N}}\\underbrace{e^{-j\\frac{2\\pi kN}{N}}}_{=1}\\\\\n",
    "&\\sum_{n=0}^{N-1}x(n)e^{-j\\frac{2\\pi kn}{N}}=X(k)\\\\\n",
    "\\end{array}\n",
    "$$"
   ]
  },
  {
   "cell_type": "markdown",
   "id": "158cb1b8-5bd3-4dbb-822f-bc2b602bcfda",
   "metadata": {},
   "source": [
    "Teniendo en cuenta que $X(k)$ es periódica con período $N$, y\n",
    "observando la expresión de $X(k)$, notamos que esa\n",
    "expresión es la Serie de Fourier discreta de $X(k)$, por lo\n",
    "que podemos concluir que:\n",
    "\n",
    "$$X(k)\\triangleq\\sum_{n=0}^{N-1}x(n)e^{-j\\frac{2\\pi kn}{N}}\\implies x(n)=c_{-n}$$\n",
    "\n",
    "siendo $c_{-n}$ los coeficientes de Fourier. \n"
   ]
  },
  {
   "cell_type": "markdown",
   "id": "3792f03f",
   "metadata": {},
   "source": [
    "\n",
    "Finalmente, teniendo en cuenta la expresión de los coeficientes de\n",
    "Fourier:\n",
    "\n",
    "$$c_n=\\frac{1}{N}\\sum_{n=0}^{N-1}X(k)e^{-j\\frac{2\\pi kn}{N}}\\quad n=0,1,\\cdots,N-1$$\n",
    "\n",
    "podemos concluir que\n",
    "\n",
    "$$x(n)\\triangleq \\sum_{k=0}^{N-1}X(k)e^{j\\frac{2\\pi kn}{N}}\\quad n=0,1,\\cdots,N-1$$"
   ]
  },
  {
   "cell_type": "markdown",
   "id": "75d80b3d-a596-401d-b0f1-537d70d31c1c",
   "metadata": {},
   "source": [
    "Es decir que, para el caso en que $L\\leq N$, la señal $x(n)$ puede\n",
    "recuperarse a partir de las muestras $X(k)$ según la expresión anterior, \n",
    "que se denomina **Transformada Discreta de Fourier\n",
    "Inversa (IDFT)**."
   ]
  },
  {
   "cell_type": "markdown",
   "id": "b69f012a-6e96-40ef-ac2e-7ef098a0a4a7",
   "metadata": {},
   "source": [
    "## Transformada Rápida de Fourier (FFT: Fast Fourier Transform)"
   ]
  },
  {
   "cell_type": "markdown",
   "id": "f505237b",
   "metadata": {},
   "source": [
    "\n",
    "El algoritmo desarrollado para el cálculo directo\n",
    "de la DTFT no es eficiente desde el punto de vista computacional \n",
    "ya que requiere del orden de $N^2$ multiplicaciones\n",
    "complejas. Por ejemplo, si se calculan 1024 frecuencias, se\n",
    "requerirían 1048576 multiplicaciones.\n"
   ]
  },
  {
   "cell_type": "markdown",
   "id": "9119021a",
   "metadata": {},
   "source": [
    "\n",
    "Si se tienen en cuenta algunas propiedades de simetría de\n",
    "los coeficientes:\n",
    "\n",
    "$$e^{-j\\frac{2\\pi kn}{N}}$$\n",
    "\n",
    "se pueden desarrollar algoritmos más rápidos.\n"
   ]
  },
  {
   "cell_type": "markdown",
   "id": "0eb7590b-0ec8-46a5-98a7-dd80c0986268",
   "metadata": {},
   "source": [
    "En particular, uno de los más difundidos es el algoritmo\n",
    "denominado **Transformada Rápida de Fourier (FFT:\n",
    "Fast Fourier Transform)** que requiere del orden de\n",
    "\n",
    "$$\\frac{N}{2}\\log_2 N$$\n",
    "\n",
    "multiplicaciones complejas, cuando $N$ es potencia entera de\n",
    "2. Para el ejemplo de $N = 1024$, resultan 5120 multiplicaciones, \n",
    "lo que representa un factor de mejora en la velocidad de 204.8."
   ]
  },
  {
   "cell_type": "markdown",
   "id": "4e630801-943b-4498-8418-604a7a9fa403",
   "metadata": {},
   "source": [
    "En Python, este algoritmo está implementado tanto en los paquetes `scipy` y `numpy`.\n",
    "La forma de uso es la misma para las dos implementaciones.\n"
   ]
  },
  {
   "cell_type": "code",
   "execution_count": 9,
   "id": "1812e8f9-c989-4302-9e1c-306ac9ef168d",
   "metadata": {},
   "outputs": [],
   "source": [
    "# podemos importarla de numpy\n",
    "from numpy.fft import fft \n",
    "# o podemos importarla de scipy\n",
    "from scipy.fft import fft\n"
   ]
  },
  {
   "cell_type": "markdown",
   "id": "e97aa095-d3fb-4b1a-a886-b783563c0ce9",
   "metadata": {},
   "source": [
    "La función `fft` se utiliza se utiliza de la siguiente manera:\n",
    "\n",
    "```python\n",
    "from scipy.fft import fft\n",
    "X=fft(x, N)\n",
    "````"
   ]
  },
  {
   "cell_type": "markdown",
   "id": "36beaf43",
   "metadata": {},
   "source": [
    "donde: \n",
    "\n",
    "- `x` son las muestras de la señal\n",
    "- `X` son los valores de la transformada\n",
    "- `N` número de frecuencias donde se calcula la transformada, que debe ser de la forma $N=2^m$ para que el algoritmo sea\n",
    "rápido.\n"
   ]
  },
  {
   "cell_type": "code",
   "execution_count": 10,
   "id": "07b88352-48dc-40a6-917c-6a70979142db",
   "metadata": {},
   "outputs": [],
   "source": [
    "from scipy.io import loadmat\n",
    "from scipy.fft import fft, fftshift, fftfreq\n",
    "import numpy as np\n",
    "import matplotlib.pyplot as plt\n",
    "%matplotlib inline\n"
   ]
  },
  {
   "cell_type": "code",
   "execution_count": 11,
   "id": "d5cc66b8",
   "metadata": {},
   "outputs": [
    {
     "data": {
      "text/plain": [
       "8000"
      ]
     },
     "execution_count": 11,
     "metadata": {},
     "output_type": "execute_result"
    }
   ],
   "source": [
    "\n",
    "# importa las variables que estan en el .mat en un diccionario data\n",
    "data=loadmat('TP3Prob4_2022.mat') \n",
    "# extraigo las variables del diccionario\n",
    "t=data['t'] \n",
    "y=data['y']\n",
    "Fs=data['Fs'][0][0]\n",
    "Fs"
   ]
  },
  {
   "cell_type": "code",
   "execution_count": 12,
   "id": "71fc4a24-6c9a-4079-bccb-b9dc7db4eab5",
   "metadata": {
    "slideshow": {
     "slide_type": "slide"
    }
   },
   "outputs": [],
   "source": [
    "L=len(y);\n",
    "N=4096*8; # notar que N > L\n",
    "Y=fft(y, n=N, axis=0);\n",
    "#F=[-Fs/2:Fs/N:Fs/2-Fs/N]';\n",
    "F=np.linspace(0, Fs/2, N, endpoint=False)\n",
    "F=fftfreq(N, 1/Fs)\n",
    "absY=np.abs(Y)\n",
    "picomax=np.max(absY)"
   ]
  },
  {
   "cell_type": "code",
   "execution_count": 13,
   "id": "4863b31a-d821-4433-8f58-e6b0b5da1fb1",
   "metadata": {
    "slideshow": {
     "slide_type": "slide"
    }
   },
   "outputs": [],
   "source": [
    "A=2*picomax/L; # amplitud de la senoide\n",
    "ind=np.where(absY==picomax)[0][0]"
   ]
  },
  {
   "cell_type": "code",
   "execution_count": 14,
   "id": "982d163d-8a38-43ea-be07-5305988dfd2a",
   "metadata": {
    "slideshow": {
     "slide_type": "slide"
    }
   },
   "outputs": [
    {
     "name": "stdout",
     "output_type": "stream",
     "text": [
      "Frecuencia del seno: 199.951171875, amplitud del seno: 1.0056159733403283\n"
     ]
    },
    {
     "data": {
      "image/png": "[encoded data removed]",
      "text/plain": [
       "<Figure size 600x400 with 2 Axes>"
      ]
     },
     "metadata": {},
     "output_type": "display_data"
    }
   ],
   "source": [
    "Fsen=F[ind]; # frecuencia de la senoide\n",
    "f, ax = plt.subplots(2,1, figsize=(6,4))\n",
    "ax[0].plot(t,y)\n",
    "ax[1].plot(fftshift(F),fftshift(absY))\n",
    "\n",
    "print(f\"Frecuencia del seno: {Fsen}, amplitud del seno: {A}\")"
   ]
  },
  {
   "cell_type": "code",
   "execution_count": 15,
   "id": "6539f06d-2396-4ea6-9bd1-b84bd489486b",
   "metadata": {},
   "outputs": [],
   "source": [
    "# Filtrado en el dominio FFT\n",
    "from scipy.fft import ifft\n",
    "filtro=np.zeros((N,))\n",
    "\n",
    "for i, val in enumerate(F):\n",
    "    if np.abs(val)>=199 and np.abs(val)<=201:\n",
    "        filtro[i]=1\n"
   ]
  },
  {
   "cell_type": "code",
   "execution_count": 16,
   "id": "efa3f299-26c4-4256-9a32-4b38bdaeb2ce",
   "metadata": {
    "slideshow": {
     "slide_type": "slide"
    }
   },
   "outputs": [
    {
     "data": {
      "text/plain": [
       "[<matplotlib.lines.Line2D at 0x13b3bb77e00>]"
      ]
     },
     "execution_count": 16,
     "metadata": {},
     "output_type": "execute_result"
    },
    {
     "data": {
      "image/png": "[encoded data removed]",
      "text/plain": [
       "<Figure size 600x400 with 2 Axes>"
      ]
     },
     "metadata": {},
     "output_type": "display_data"
    }
   ],
   "source": [
    "Yfiltrada=Y[:,0]*filtro\n",
    "yfiltrada=np.real(ifft(Yfiltrada))\n",
    "yfiltrada=yfiltrada[0:L]\n",
    "f, ax=plt.subplots(2,1, figsize=(6,4))\n",
    "ax[0].plot(fftshift(F),abs(fftshift(Yfiltrada)))\n",
    "ax[0].plot(fftshift(F),5000*fftshift(filtro))\n",
    "ax[1].set_xlim([0.99, 1.01])\n",
    "ax[1].plot(t,yfiltrada)"
   ]
  },
  {
   "cell_type": "markdown",
   "id": "f0c61a4a-f3b8-4581-88b6-fb4a44c3c7cd",
   "metadata": {
    "slideshow": {
     "slide_type": "slide"
    }
   },
   "source": [
    "## Uso de `for` y `enumerate` en Python\n",
    "\n",
    "El `for` en Python se puede utilizar en objetos sobre los cuales se puede *iterar*. \n",
    "Estos objetos se dicen que son *iterables*. \n",
    "\n",
    "Cuando se itera utilizando un *for* en Python, en cada iteración se va obteniendo \n",
    "cada uno de los elemento del objeto sobre el cual se está iterando. \n",
    "\n",
    "En el caso del diseño del filtro se quieren eliminar todas \n",
    "las componentes de frecuencias que no se corresponden con la del seno que se quiere recuperar.\n",
    "Es decir, el filtro deberá ser un vector de ceros, \n",
    "donde solo sean 1 las componentes que se correspondan con las frecuencias \n",
    "en torno a la frecuencia de la senoide ($\\approx 200$ Hz).\n",
    "En nuestro caso decidimos hacer 1 todas las componentes de frecuencia que son mayores a 199 \n",
    "y menores a 201, tanto positivas como negativas.\n",
    "\n",
    "Para hacerlo utilizando el bucle `for` recorro el vector de frecuencias $F$ y \n",
    "obtengo el indice en `i` y el valor de la frecuencia el `val` mediante el uso\n",
    "de la función `enumerate`. Si el valor de la frecuencia está entre los seleccionados \n",
    "se utiliza el indice `i` para hacer 1 la componente del filtro que se corresponde con la \n",
    "frecuencia `val`.\n",
    "\n",
    "El índice `i` lo utilizo para hacer 1 las componentes del filtro en las frecuencias de interés."
   ]
  },
  {
   "cell_type": "markdown",
   "id": "2f8da8e8",
   "metadata": {},
   "source": [
    "### Ejemplo\n",
    "\n",
    "Supongamos que que queremos aplicarle una función a cada elemento de un `array` y guardarlo en otro array de igual dimensión y poder graficar los valores del primero respecto del segundo.\n",
    "\n",
    "Para esto el algoritmo que planteamos podría ser:\n",
    "- defino la operación que le vamos a aplicar a cada uno de los elementos\n",
    "- genero un `array` con los valores que le voy a aplicar la función\n",
    "- aloco un `array` vacio de mismo tamaño que que anterior\n",
    "- recorro el primer `array` y guardo cada uno de los resultados en el segundo usando el mismo indice para ambos\n",
    "- realizo la figura\n"
   ]
  },
  {
   "cell_type": "code",
   "execution_count": null,
   "id": "891e7fe7-edd1-439e-bcc5-20590087c72a",
   "metadata": {},
   "outputs": [
    {
     "data": {
      "text/plain": [
       "[<matplotlib.lines.Line2D at 0x7b04dc366f60>]"
      ]
     },
     "execution_count": 6,
     "metadata": {},
     "output_type": "execute_result"
    },
    {
     "data": {
      "image/png": "[encoded data removed]",
      "text/plain": [
       "<Figure size 640x480 with 1 Axes>"
      ]
     },
     "metadata": {},
     "output_type": "display_data"
    }
   ],
   "source": [
    "\n",
    "\n",
    "import numpy as np\n",
    "import matplotlib.pyplot as plt\n",
    "\n",
    "def operacion_arbitraria(num):\n",
    "    return num**3+2\n",
    "\n",
    "\n",
    "x=np.linspace(0, 2, 1001, endpoint=True)\n",
    "y=np.empty(x.shape)\n",
    "\n",
    "for i, v in enumerate(x):\n",
    "    y[i]=operacion_arbitraria(v)\n",
    "\n",
    "plt.plot(x, y)"
   ]
  },
  {
   "cell_type": "code",
   "execution_count": null,
   "id": "20971eec",
   "metadata": {},
   "outputs": [],
   "source": []
  }
 ],
 "metadata": {
  "kernelspec": {
   "display_name": "dsp",
   "language": "python",
   "name": "python3"
  },
  "language_info": {
   "codemirror_mode": {
    "name": "ipython",
    "version": 3
   },
   "file_extension": ".py",
   "mimetype": "text/x-python",
   "name": "python",
   "nbconvert_exporter": "python",
   "pygments_lexer": "ipython3",
   "version": "3.12.2"
  }
 },
 "nbformat": 4,
 "nbformat_minor": 5
}
