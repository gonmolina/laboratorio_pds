{
 "cells": [
  {
   "cell_type": "markdown",
   "id": "cf4bc558-547f-40c7-ae30-679569301da5",
   "metadata": {
    "editable": true,
    "slideshow": {
     "slide_type": "slide"
    },
    "tags": []
   },
   "source": [
    "# Análisis frecuencial de señales en tiempo discreto"
   ]
  },
  {
   "cell_type": "markdown",
   "id": "a811e8fd-6dc8-43df-b78f-1661379f9171",
   "metadata": {
    "editable": true,
    "slideshow": {
     "slide_type": "slide"
    },
    "tags": []
   },
   "source": [
    "## Serie de Fourier de Señales en Tiempo Discreto"
   ]
  },
  {
   "cell_type": "markdown",
   "id": "cba3961e-bdba-47b6-af44-7c5542cac465",
   "metadata": {
    "editable": true,
    "slideshow": {
     "slide_type": "fragment"
    },
    "tags": []
   },
   "source": [
    "Sea $x(n)$ **una señal periódica** con período $N$, es decir:\n",
    "\n",
    "La representación de $x(n)$ en *serie de Fourier* puede\n",
    "expresarse como:\n",
    "\n",
    "$$x(n)=\\sum_{k=0}^{N-1}c_k e^{j\\frac{2\\pi kn}{N}}$$\n",
    "\n",
    "donde ${c_k}$ son los coeficientes de Fourier."
   ]
  },
  {
   "cell_type": "markdown",
   "id": "8496eca2-5489-4b4b-8b9c-1e879d33a8df",
   "metadata": {
    "editable": true,
    "slideshow": {
     "slide_type": "slide"
    },
    "tags": []
   },
   "source": [
    "Para derivar la expresión de $c_k$ usamos la identidad\n",
    "\n",
    "$$\\sum_{k=0}^{N-1}e^{j\\frac{2\\pi kn}{N}}=\\left\\{\n",
    "\\begin{array}{ll}\n",
    "N & k=0,\\pm N, \\pm 2N, \\cdots\\\\\n",
    "0 & \\text{c.o.c}\n",
    "\\end{array}\n",
    "\\right.\n",
    "$$\n"
   ]
  },
  {
   "cell_type": "markdown",
   "id": "2f00a103",
   "metadata": {
    "editable": true,
    "slideshow": {
     "slide_type": "subslide"
    },
    "tags": []
   },
   "source": [
    "\n",
    "Reemplazando , tenemos:\n",
    "$$x(n)e^{-j\\frac{2\\pi kn}{N}}=\\sum_{k=0}^{N-1}c_ke^{-j\\frac{2\\pi (k-l)n}{N}}$$\n"
   ]
  },
  {
   "cell_type": "markdown",
   "id": "c52624ca",
   "metadata": {
    "editable": true,
    "slideshow": {
     "slide_type": "fragment"
    },
    "tags": []
   },
   "source": [
    "Sumando sobre $n$:\n",
    "\n",
    "$$\n",
    "\\begin{align}\n",
    "  \\sum_{n=0}^{N-1}x(n)e^{-j\\frac{2\\pi ln}{N}}& =\n",
    "  \\sum_{n=0}^{N-1}\\sum_{k=0}^{N-1}c_ke^{j\\frac{2\\pi (k-l)n}{N}}\\\\\n",
    "& = \\sum_{n=0}^{N-1}c_k\\sum_{k=0}^{N-1}e^{j\\frac{2\\pi (k-l)n}{N}}\\\\\n",
    "& = Nc_l \n",
    "\\end{align}\n",
    "$$"
   ]
  },
  {
   "cell_type": "markdown",
   "id": "f47fe1bd",
   "metadata": {
    "editable": true,
    "slideshow": {
     "slide_type": "subslide"
    },
    "tags": []
   },
   "source": [
    "Luego\n",
    "\n",
    "$$c_l=\\frac{1}{N}\\sum_{n=0}^{N-1}x(n)e^{-j\\frac{2\\pi ln}{N}}\\quad \\text{con } l=0,1,\\cdots,N-1$$\n",
    "\n",
    "que son los **coeficientes de la series de Fourier**."
   ]
  },
  {
   "cell_type": "markdown",
   "id": "1332916c",
   "metadata": {
    "editable": true,
    "slideshow": {
     "slide_type": "subslide"
    },
    "tags": []
   },
   "source": [
    "- Como las componentes en frecuencia\n",
    "$$ S_k =  e^{-j\\frac{2\\pi kn}{N}} $$\n",
    "son periódicas con período $N$, entonces los coeficientes de Fourier $c_k$ \n",
    "son también periódicos cuando se calculan más allá del rango $k=0, 1, \\cdots, N-1$. \n",
    "Se tiene entonces:\n",
    "\n",
    "$$c_{k+N}=c_k$$\n",
    "\n",
    "Es decir, ${c_k}$ es una secuencia periódica con periodo fundamental $N$."
   ]
  },
  {
   "cell_type": "markdown",
   "id": "797e99aa-0166-48c0-9c8d-deaa29758747",
   "metadata": {
    "editable": true,
    "slideshow": {
     "slide_type": "subslide"
    },
    "tags": []
   },
   "source": [
    "Tenemos entonces que el espectro de una señal $x(n)$ que es\n",
    "periódica con período $N$, es una secuencia periódica con\n",
    "período $N$.\n",
    "\n",
    "Consecuentemente cualquier secuencia de $N$ muestras de\n",
    "la señal o de su espectro provee una descripción completa\n",
    "de la señal en el dominio temporal o frecuencial.\n",
    "\n",
    "- Si bien ${c_k}$ es una secuencia periódica, nos concentraremos \n",
    "en un solo período en el rango $k = 0 , 1 , \\cdots , N-1$.\n",
    "En el dominio frecuencial esto implica cubrir el rango de\n",
    "frecuencias:\n",
    "\n",
    "\n",
    "$$0\\leq \\omega_k=\\frac{2\\pi k}{N}< 2\\pi \\quad \\text{con } k=0,1, 2, \\cdots, N-1$$\n"
   ]
  },
  {
   "cell_type": "markdown",
   "id": "a940ed31-f3ef-41be-abd6-e35603e21c0c",
   "metadata": {
    "editable": true,
    "slideshow": {
     "slide_type": "slide"
    },
    "tags": []
   },
   "source": [
    "## Espectro de Densidad de Potencia de Señales Periódicas en Tiempo Discreto"
   ]
  },
  {
   "cell_type": "markdown",
   "id": "51fa4049-0119-4fd7-972e-4a95bee42d2b",
   "metadata": {
    "editable": true,
    "slideshow": {
     "slide_type": "fragment"
    },
    "tags": []
   },
   "source": [
    "La potencia media de una señal  periódica  de período $N$  es:\n",
    "\n",
    "$$\n",
    " \\begin{align}\n",
    " P_x=\\frac{1}{N}\\sum_{n=0}^{N-1} |x(n)|^2&=\\frac{1}{N}\\sum_{n=0}^{N-1}x(n)x^*(n)\\\\\n",
    "         &=\\frac{1}{N}\\sum_{n=0}^{N-1}x(n) \\left[\\sum_{k=0}^{N-1}c_k^*e^{-j\\frac{2\\pi k n}{N}}\\right]\\\\\n",
    "         &=\\frac{1}{N}\\sum_{k=0}^{N-1} c_k^*\\left[\\sum_{n=0}^{N-1}x(n)e^{-j\\frac{2\\pi k n}{N}}\\right]\\\\\n",
    "         &=\\frac{1}{N}\\sum_{k=0}^{N-1} c_k^*c_k=\\frac{1}{N}\\sum_{k=0}^{N-1} |c_k|^2\n",
    " \\end{align}\n",
    "$$"
   ]
  },
  {
   "cell_type": "markdown",
   "id": "ffd87899-b812-4b31-8bb4-be840bcfb128",
   "metadata": {
    "editable": true,
    "slideshow": {
     "slide_type": "slide"
    },
    "tags": []
   },
   "source": [
    "- La secuencia |ck|^2 , $k = 0 , 1 , \\cdots, N-1$ se denomina\n",
    "**Espectro de Densidad de Potencia**"
   ]
  },
  {
   "cell_type": "markdown",
   "id": "a8194958-fa87-4920-a021-66ab3ab83ba8",
   "metadata": {
    "editable": true,
    "slideshow": {
     "slide_type": "fragment"
    },
    "tags": []
   },
   "source": [
    "- La energía de la señal $x(n)$ en un período es:\n",
    "\n",
    "$$E_n=\\sum_{n=0}^{N-1}|x(n)|^2=N\\sum_{n=0}^{N-1}|c_k|^2$$"
   ]
  },
  {
   "cell_type": "markdown",
   "id": "904e6986-c4ac-4c33-a638-02a1dc70fe83",
   "metadata": {
    "editable": true,
    "slideshow": {
     "slide_type": "fragment"
    },
    "tags": []
   },
   "source": [
    "- Si la señal $x(n)$ es real, entonces:\n",
    "\n",
    "$$ \n",
    "c_k^*=c_k \\implies \\left\\{\n",
    "\\begin{array}{cc}\n",
    "|c_{-k}|&=|c_{k}|\\\\\n",
    "-\\angle c_{-k}&=\\angle c_{k}\\\\\n",
    "\\end{array}\n",
    "\\right.\n",
    "$$"
   ]
  },
  {
   "cell_type": "markdown",
   "id": "0c52e5da-4bdf-46c6-8de4-286d441bbfb4",
   "metadata": {
    "editable": true,
    "slideshow": {
     "slide_type": "slide"
    },
    "tags": []
   },
   "source": [
    "## Ejemplos:"
   ]
  },
  {
   "cell_type": "markdown",
   "id": "5baa90de-b28c-4cb7-b7cd-467f31ea03db",
   "metadata": {
    "editable": true,
    "slideshow": {
     "slide_type": "fragment"
    },
    "tags": []
   },
   "source": [
    "- $$x(n)=\\cos\\sqrt{2}\\pi n$$\n",
    "$$ \\omega_0=\\sqrt 2 \\pi \\implies f_0=\\frac{1}{\\sqrt{2}}$$"
   ]
  },
  {
   "cell_type": "markdown",
   "id": "0f52b80b-d7de-4476-a545-de112aaac66f",
   "metadata": {
    "editable": true,
    "slideshow": {
     "slide_type": "fragment"
    },
    "tags": []
   },
   "source": [
    "- Como $f0$ no es un número racional, $x(n)$ no es periódica $\\implies$ \n",
    "No puede expandirse en series de Fourier. La señal posee\n",
    "sin embargo un espectro que consiste de una única\n",
    "componente de frecuencia $\\omega=\\omega_0=\\sqrt{2}\\pi$"
   ]
  },
  {
   "cell_type": "markdown",
   "id": "efa6c473-dff5-4635-aa83-1c497f98e53c",
   "metadata": {
    "editable": true,
    "slideshow": {
     "slide_type": "subslide"
    },
    "tags": []
   },
   "source": [
    "- $$x(n)=\\cos\\frac{\\pi n}{3}$$\n",
    "\n",
    "$$ \\omega_0=\\frac{\\pi}{3} \\implies f_0=\\frac{1}{6}$$\n",
    "\n",
    "$x(n)$ es periódica con período fundamental $N = 6$"
   ]
  },
  {
   "cell_type": "markdown",
   "id": "04a17b42-9243-441f-aa06-8316422e39b4",
   "metadata": {
    "editable": true,
    "slideshow": {
     "slide_type": "fragment"
    },
    "tags": []
   },
   "source": [
    "Los coeficientes de Fourier resultan:\n",
    "$$c_k=\\frac{1}{6}\\sum_{n=0}^{5} x(n)e^{-j\\frac{2\\pi kn}{6}}, \\quad k=0,1,\\cdots,5$$"
   ]
  },
  {
   "cell_type": "markdown",
   "id": "795179b0-406d-4d9b-89d4-26788a1c0661",
   "metadata": {
    "editable": true,
    "slideshow": {
     "slide_type": ""
    },
    "tags": []
   },
   "source": [
    "## Transformada de Fourier en Tiempo Discreto\n",
    "La DTFT de una señal $x(n)$ de energía finita se define como:\n",
    "\n",
    "$$X(\\omega)\\triangleq \\sum_{n=-\\infty}^{\\infty}x(n)e^{-j\\omega n}$$"
   ]
  },
  {
   "cell_type": "markdown",
   "id": "0088c31e-fe14-44f7-b8db-604580ad4b69",
   "metadata": {
    "editable": true,
    "slideshow": {
     "slide_type": ""
    },
    "tags": []
   },
   "source": [
    "- $X(\\omega)$ representa el contenido  frecuencial  de una señal $x(n)$; y se denomina espectro de $x(n)$\n",
    "- Como el rango de frecuencias  para una señal en tiempo discreto es $(-\\pi, \\pi), X(\\omega)$ resulta periódica de período $2\\pi$.\n",
    "\n",
    "En efecto,\n",
    "\n",
    "$$X(\\omega+2\\pi)=\\sum_{n=-\\infty}^{\\infty}x(n)e^{-j(\\omega+2\\pi)n}=\\sum_{n=-\\infty}^{\\infty}x(n)e^{-j(\\omega n+2\\pi)n}.\\underbrace{e^{-j2\\pi n}}_{=1}=X(\\omega)$$"
   ]
  },
  {
   "cell_type": "markdown",
   "id": "91a5875c-9db7-4bf4-acaa-91dc6f77698c",
   "metadata": {
    "editable": true,
    "slideshow": {
     "slide_type": ""
    },
    "tags": []
   },
   "source": [
    "- Como $X(\\omega)$ es una función de la variable $\\omega$, admite una expansión en series de Fourier, siempre que se verifiquen las condiciones de Dirichlet.\n",
    "\n",
    "De la definición anterior de $X(\\omega)$ vemos que los coeficientes de Fourier son:\n",
    "\n",
    "$$c_n=x(-n)$$\n",
    "\n",
    "Si se conoce $X(\\omega)$, la señal $x(n)$ puede entonces recuperarse como:\n",
    "\n",
    "$$x(n)=c_{-n}=\\frac{1}{2\\pi}\\int_{-\\pi}^{\\pi} X(\\omega)e^{j\\omega n}d\\omega$$\n",
    "\n",
    "que es la Transformada de Fourier Inversa en Tiempo Discreto."
   ]
  },
  {
   "cell_type": "markdown",
   "id": "68a37fbf-fa57-4842-8a13-c8fb25bcc1a3",
   "metadata": {
    "editable": true,
    "slideshow": {
     "slide_type": ""
    },
    "tags": []
   },
   "source": [
    "## Covnergencia de la DFTF\n",
    "\n",
    "Definamos:\n",
    "\n",
    "$$X_N(\\omega)=\\sum_{n=-N}^{N}x(n)e^{-j\\omega n}$$\n",
    "\n",
    "Decimox que $X_N(\\omega)$ **converge uniformemente** a $X(\\omega)$, para todo $\\omega$, cuando $N\\rightarrow \\infty$, si \n",
    "\n",
    "$$\\lim_{N\\rightarrow\\infty} |X(\\omega)-X_N(\\omega)|=0$$"
   ]
  },
  {
   "cell_type": "markdown",
   "id": "a31b40c6-b04a-49fe-a6d7-017fe4f914c8",
   "metadata": {
    "editable": true,
    "slideshow": {
     "slide_type": ""
    },
    "tags": []
   },
   "source": [
    "La convergencia uniforme de $X_N(\\omega)$ queda garantizada si:\n",
    "\n",
    "$$ \\sum_{n=-\\infty}^{\\infty} |x(n)| < \\infty$$\n",
    "\n",
    "En efecto se verifica entonces:\n",
    "\n",
    "$$|X(\\omega)| = \\left| \\sum_{n=-\\infty}^{\\infty} x(n)e^{-j\\omega n}\\right|\\leq \\sum_{n=-\\infty}^{\\infty} \\left|x(n)\\right|\\leq \\infty$$\n",
    "\n",
    "Por lo que esta es una condición **suficiente** para existencia de la transformada discreta de Forier."
   ]
  },
  {
   "cell_type": "markdown",
   "id": "9af0ab3d-bc96-4bbe-a6f6-f7090ee042b2",
   "metadata": {
    "editable": true,
    "slideshow": {
     "slide_type": ""
    },
    "tags": []
   },
   "source": [
    "Algunas secuencias no son absolutamente sumables, pero son cuadrado sumables, es decir son de energía finita:\n",
    "\n",
    "$$E_{x}=\\sum_{n=-\\infty}^{\\infty} \\left|x(n)\\right|^{2}\\leq \\infty$$\n",
    "\n",
    "que es una condición más débil que la anterior (la anterior implica esta pero no al revez)\n",
    "\n",
    "Para poder definir la DTFT de estas señales, la condición de convergencia uniforme se debe relajar a **convergencia en media cuadrática**:\n",
    "\n",
    "$$\\lim_{N\\rightarrow \\infty} \\int_{-\\pi}^{\\pi}\\left|X(\\omega)-X(\\omega)\\right|^2 dw=0$$\n",
    "\n",
    "Es decir, la energía  del error $|X(\\omega)-X_N(\\omega)|$ tiende a cero, pero no necesariamente el error tiende a cero para cada $\\omega$.\n",
    "\n",
    "- De esta forma podemos ampliar la clase de señales que tiene DFTF para incluir señales de energía finita."
   ]
  },
  {
   "cell_type": "markdown",
   "id": "b9f1ef6b-8a5e-43b1-9083-0c2bd438f251",
   "metadata": {
    "editable": true,
    "slideshow": {
     "slide_type": ""
    },
    "tags": []
   },
   "source": [
    "### Ejemplo\n",
    "\n",
    "Supongamos que la señal $x(n)$ tiene DFTF,\n",
    "\n",
    "$$X(\\omega)=\\left\\{\n",
    "\\begin{array}{ll}\n",
    "1, &\\quad |\\omega|\\leq \\omega_c\\\\ \n",
    "0, &\\quad \\omega_c < |\\omega| \\leq \\pi \n",
    "\\end{array}\n",
    "\\right.$$\n",
    "\n",
    "Recordemos que $|X(\\omega)|$ es periódica con período $2\\pi$.\n",
    "\n",
    "La transformada inversa resulta\n",
    "\n",
    "$$x(n)=\\frac{1}{2\\pi}\\int_{-\\pi}^{\\pi}X(\\omega)e^{j\\omega n}d\\omega=\n",
    "\\frac{1}{2\\pi}\\int_{-\\omega_c}^{\\omega_c}e^{j\\omega n}d\\omega\n",
    "=\\frac{\\sin(\\omega_c n)}{\\pi n}, \\quad \\text{con } n \\neq 0$$\n",
    "\n",
    "$$x(n)=\\frac{1}{2\\pi}\\int_{-\\omega_c}^{\\omega_c}d\\omega=\\frac{\\omega_c}{\\pi}, \\quad\\text{con } n=0$$"
   ]
  },
  {
   "cell_type": "markdown",
   "id": "55f3dcdc-d177-4593-9adf-07adc43b97b2",
   "metadata": {
    "editable": true,
    "slideshow": {
     "slide_type": ""
    },
    "tags": []
   },
   "source": [
    "Se puede verificar que $x(n)$ no es absolutamente sumable pero es cuadrado sumable. "
   ]
  },
  {
   "cell_type": "markdown",
   "id": "094fb98d",
   "metadata": {},
   "source": [
    "En efecto:\n",
    "\n",
    "$$\n",
    "\\sum_{n=-\\infty}^{\\infty} |x(n)|=\n",
    "\\frac{\\omega_c}{\\pi}+2\\sum_{n=1}^{\\infty} \\frac{\\omega_c}{\\pi}\\left|\\frac{\\sin(\\omega_c n)}{\\omega_c n}\\right|\n",
    "\\leq \\frac{\\omega_c}{\\pi}+\\underbrace{\\frac{2}{\\pi}\\sum_{n=1}^{\\infty}\\frac{1}{n}}_{\\text{diverge}}\n",
    "$$"
   ]
  },
  {
   "cell_type": "markdown",
   "id": "ace99272",
   "metadata": {},
   "source": [
    "Además: \n",
    "\n",
    "$$\n",
    "\\sum_{n=-\\infty}^{\\infty} |x(n)|^2=\n",
    "\\frac{\\omega_c^2}{\\pi^2}+2\\sum_{n=1}^{\\infty} \\frac{\\omega_c^2}{\\pi^2}\\left|\\frac{\\sin(\\omega_c n)}{\\omega_c n}\\right|^2\n",
    "\\leq \\frac{\\omega_c^2}{\\pi^2}+\\underbrace{\\frac{2}{\\pi^2}\\sum_{n=1}^{\\infty}\\frac{1}{n^2}}_{\\text{converge}}\n",
    "$$"
   ]
  },
  {
   "cell_type": "markdown",
   "id": "19f639ff",
   "metadata": {},
   "source": [
    "Concluimos entonces que la DTFT $X(\\omega)$ de $x(n)$ converge en media cuadrática, pero no converge uniformemente punto a punto (en las discontinuidades).\n",
    "\n",
    "Para ver esto en mayor detalle consideremos la suma finita \n",
    "\n",
    "$$\n",
    "X_N(\\omega)=\\sum_{n=-N}^{N}\\frac{\\sin(\\omega_cn)}{\\pi n} e^{-j\\omega n }\n",
    "$$\n",
    "\n",
    "para distintos valores de $N$ crecientes. \n",
    "\n",
    "Vemos que existe una oscilación en frecuencia $\\omega=\\omega_c$.\n",
    "Cuando $N$ aumenta, la oscilación es mas rápida y cuando $N\\rightarrow\\infty$ la oscilación converge al punto de discontinuidad $\\omega=\\omega_c$, pero su amplitud no va a cero. Este fenómeno oscilatorio de $X_N(\\omega)$ se denomina fenómeno de Gibbs.\n"
   ]
  },
  {
   "cell_type": "markdown",
   "id": "11c5125d",
   "metadata": {},
   "source": [
    "### Espectro de Densidad de Energía de Señales Aperiódicas \n",
    "\n",
    "La energía de la señal $x(n)$ es:\n",
    " \n",
    "\n",
    "$$\\begin{align}\n",
    "E_x=\\sum_{n=-\\infty}^{\\infty} \\left|x(n)\\right|^2 &= \\sum_{n=-\\infty}^{\\infty} x(n)x^*(n)\\\\\n",
    "&= \\sum_{n=-\\infty}^{\\infty} x(n)\\left[\\frac{1}{2\\pi}\\int_{-\\pi}^{\\pi} X^*(\\omega)e^{-j\\omega n}d\\omega\\right]\\\\\n",
    "&= \\frac{1}{2\\pi}\\int_{-\\pi}^{\\pi} X^*(\\omega)\\left[\\sum_{n=-\\infty}^{\\infty} x(n)e^{-j\\omega n}\\right]d\\omega\\\\\n",
    "&= \\frac{1}{2\\pi}\\int_{-\\pi}^{\\pi} \\left|X^(\\omega)\\right|^2d\\omega\\\\\n",
    "\\end{align}\n",
    "$$\n",
    "\n",
    "A esta igualdad se la conoce como identidad de Parseval para señales aperiódicas.\n",
    "\n",
    "- $X(\\omega)$ es, en general una función a valores complejos que puede expresar como:\n",
    "\n",
    "$$X(\\omega)=|X(\\omega)e^{j\\theta(\\omega)}$$ \n",
    "\n",
    "donde:\n",
    "\n",
    "$$\\left|X(\\omega)\\right|: \\text{Espectro de magnitud}$$\n",
    "$$\\theta(\\omega)=\\angle\\omega: \\text{Espectro de magnitud}$$\n",
    "\n",
    "- $S_{xx}(\\omega)=|X(\\omega)|^2$ se denomina **Espectro de densidad de energía** de $x(n)$. $S_{xx}(\\omega)$ no contiene información de la fase.\n",
    "- Si $x(n)$ es una señal real, entonces:\n",
    "\n",
    "$$\n",
    "X^{*}(\\omega)=X(\\omega)\\implies \\left\\{\n",
    "    \\begin{align*}\n",
    "        |X(-\\omega)&=X(\\omega)|\\\\\n",
    "        \\angle X(-\\omega)&=-\\angle X(\\omega)\\\\\n",
    "        S_{xx}(-\\omega)=S_{xx}(\\omega)\n",
    "    \\end{align*}\n",
    "    \\right.\n",
    "$$\n",
    "\n",
    "- Basados en las propiedades anteriores de simetría podemos concluir que para una señal real basta con conocer $X(\\omega)$ en e rango de frecuencias $0\\leq \\omega\\leq\\pi$ para que $x(n)$ (señal real) quede completamente determinada."
   ]
  },
  {
   "cell_type": "markdown",
   "id": "1649dace",
   "metadata": {},
   "source": [
    "### Ejemplo 1:\n",
    "\n",
    "Calcule y grafique el espectro de densidad de energía $S_{xx}(\\omega)$ de la señal:\n",
    "\n",
    "$$x(\\omega)=a^{n}\\mu(n), \\quad 0<a<1$$\n",
    "\n",
    "La DTFT de $x(n)$ resulta:\n",
    "\n",
    "$$\n",
    "\\begin{align*}\n",
    "    X(\\omega)&=\\sum_{n=-\\infty}^{\\infty}x(n)e^{-j\\omega n}=\\sum_{n=-\\infty}^{\\infty}a^ne^{-j\\omega n}\\\\\n",
    "    &=\\sum_{n=-\\infty}^{\\infty}\\left(ae^{-j\\omega}\\right)^n=\\frac{1}{1-ae^{-j\\omega}}\\\\\n",
    "\\end{align*}\n",
    "$$\n",
    "\n",
    "  \n",
    "\n"
   ]
  },
  {
   "cell_type": "markdown",
   "id": "cb0db589",
   "metadata": {},
   "source": [
    "Luego \n",
    "\n",
    "$$\n",
    "\\begin{align*}\n",
    "S_{xx}&=\\left|X(\\omega)\\right|^2=\\left|\\frac{1}{1+a\\cos(\\omega)+ja\\sin(\\omega)}\\right|^2\\\\\n",
    "&=\\frac{1}{\\left(1-\\cos(\\omega)\\right)^2+a^2\\sin^2(\\omega)}\\\\\n",
    "&=\\frac{1}{1+a^2-2a\\cos(\\omega)}\n",
    "\\end{align*}\n",
    "$$"
   ]
  },
  {
   "cell_type": "code",
   "execution_count": 9,
   "id": "2f0da745",
   "metadata": {},
   "outputs": [
    {
     "data": {
      "image/png": "[encoded data removed]",
      "text/plain": [
       "<Figure size 640x480 with 1 Axes>"
      ]
     },
     "metadata": {},
     "output_type": "display_data"
    }
   ],
   "source": [
    "import numpy as np\n",
    "import matplotlib.pyplot as plt\n",
    "\n",
    "def espectro1(w, a=0.8):\n",
    "    return 1/(1+a**2-2*a*np.cos(w))\n",
    "\n",
    "\n",
    "omega=np.linspace(-np.pi, np.pi, 1001, endpoint=True)\n",
    "\n",
    "sxx1=np.empty(omega.shape)\n",
    "\n",
    "for i, w in enumerate(omega):\n",
    "    sxx1[i]=espectro1(w)\n",
    "\n",
    "plt.plot(omega, sxx1)\n",
    "plt.ylabel(r\"$S_{xx}$\")\n",
    "plt.xlabel(r\"$\\omega$\")\n",
    "plt.grid();\n"
   ]
  },
  {
   "cell_type": "markdown",
   "id": "bb2bce69",
   "metadata": {},
   "source": [
    "### Ejemplo 2\n",
    "\n",
    "Determine la DTFT y el espectro de densidad de energía de la señal:\n",
    "\n",
    "$$\n",
    "x(n)=\\left\\{ \n",
    "    \\begin{align*}\n",
    "      A, &\\quad 0\\leq n \\leq L-1\\\\\n",
    "      0, &\\quad \\text{c.o.c.}\n",
    "    \\end{align*}\n",
    "    \\right.\n",
    "$$\n",
    "\n",
    "La DTFT resulta: \n",
    "$$\n",
    " \\begin{align*}\n",
    "    X(\\omega)&=\\sum_{n=-\\infty}^{\\infty}x(n)e^{-j\\omega n} = A\\sum_{n=0}^{L-1}e^{-j\\omega n}\\\\\n",
    "    & =A\\sum_{n=0}^{L-1}\\left(e^{-j\\omega}\\right)^n=A\\frac{1-e^{-j\\omega L}}{1-e^{-j\\omega}} \\\\\n",
    "    & =A\\frac{e^{-j\\omega L/2}e^{j\\omega L/2}-e^{-j\\omega L/2}e^{-j\\omega L/2}}{e^{-j\\omega /2}e^{j\\omega /2}-e^{-j\\omega /2}e^{-j\\omega /2}} \\\\\n",
    "    & =A\\frac{e^{-j\\omega L/2}}{-j\\omega /2}\\frac{\\sin(\\omega L/2)}{\\sin(\\omega /2)}\\\\\n",
    "    & =Ae^{-j\\omega (L-1)/2}\\frac{\\sin(\\omega L/2)}{\\sin(\\omega /2)}\\\\\n",
    " \\end{align*}\n",
    "$$\n",
    "\n",
    "El espectro de densidad de energía resulta:\n",
    "\n",
    "$$S_{xx}=|X(\\omega)|^2 = A^2 \\frac{\\sin^2(\\omega L/2)}{\\sin^2(\\omega/2)}$$\n",
    "\n"
   ]
  },
  {
   "cell_type": "code",
   "execution_count": 27,
   "id": "7867d893",
   "metadata": {},
   "outputs": [
    {
     "name": "stderr",
     "output_type": "stream",
     "text": [
      "/tmp/ipykernel_51334/3752083436.py:2: RuntimeWarning: invalid value encountered in scalar divide\n",
      "  return  (A**2)*(np.sin(w*L/2)**2)/(np.sin(w/2)**2)\n"
     ]
    },
    {
     "data": {
      "image/png": "[encoded data removed]",
      "text/plain": [
       "<Figure size 600x600 with 3 Axes>"
      ]
     },
     "metadata": {},
     "output_type": "display_data"
    }
   ],
   "source": [
    "\n",
    "def espectro2(w, L=10, A=1):\n",
    "    return  (A**2)*(np.sin(w*L/2)**2)/(np.sin(w/2)**2)\n",
    "\n",
    "omega=np.linspace(-np.pi, np.pi, 1001, endpoint=True)\n",
    "\n",
    "sxx21=np.empty(omega.shape)\n",
    "sxx22=np.empty(omega.shape)\n",
    "sxx23=np.empty(omega.shape)\n",
    "\n",
    "for i, w in enumerate(omega):\n",
    "    sxx21[i]=espectro2(w, L=10)\n",
    "    sxx22[i]=espectro2(w, L=20)\n",
    "    sxx23[i]=espectro2(w, L=100)\n",
    "\n",
    "fig, ax=plt.subplots(3,1, figsize=(6,6))\n",
    "ax[0].plot(omega, sxx21)\n",
    "ax[1].plot(omega, sxx22)\n",
    "ax[2].plot(omega, sxx23)\n",
    "ax[2].set_xlabel(r\"$\\omega$\")\n",
    "for i in ax:\n",
    "    i.grid()"
   ]
  },
  {
   "cell_type": "code",
   "execution_count": null,
   "id": "b54b6e5f",
   "metadata": {},
   "outputs": [],
   "source": []
  }
 ],
 "metadata": {
  "kernelspec": {
   "display_name": "dsp",
   "language": "python",
   "name": "python3"
  },
  "language_info": {
   "codemirror_mode": {
    "name": "ipython",
    "version": 3
   },
   "file_extension": ".py",
   "mimetype": "text/x-python",
   "name": "python",
   "nbconvert_exporter": "python",
   "pygments_lexer": "ipython3",
   "version": "3.12.2"
  }
 },
 "nbformat": 4,
 "nbformat_minor": 5
}
