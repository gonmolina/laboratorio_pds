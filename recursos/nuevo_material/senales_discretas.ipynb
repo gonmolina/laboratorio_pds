{
 "cells": [
  {
   "cell_type": "code",
   "execution_count": 2,
   "id": "e281eda0-7de1-44cf-a716-fcc1f1e7408c",
   "metadata": {
    "editable": true,
    "slideshow": {
     "slide_type": "skip"
    },
    "tags": []
   },
   "outputs": [],
   "source": [
    "import scipy as sc\n",
    "import numpy as np\n",
    "import matplotlib.pyplot as plt\n",
    "%matplotlib inline"
   ]
  },
  {
   "cell_type": "markdown",
   "id": "eb91d394-593a-43f9-99e4-a6902f086bce",
   "metadata": {
    "editable": true,
    "slideshow": {
     "slide_type": "slide"
    },
    "tags": []
   },
   "source": [
    "## Señales en tiempo discreto \n",
    "\n",
    "Están definidas sólo en valores discretos de tiempo. Los instantes de tiempo no necesariamente están equiespaciados.\n",
    "\n",
    "- En general, las señales en Tiempo Discreto (TD) aparecen cuando se muestrea una señal analógica, es decir, cuando se toman muestras de la señal a instantes\n",
    "discretos de tiempo.\n",
    "- Si los instantes de tiempo están equiespaciados, el muestreo se denomina **periódico** o **uniforme**.\n",
    "\n",
    "\n",
    "```{figure} muestreador_ideal.png\n",
    ":align: center\n",
    ":width: 50% \n",
    ":label: muestreador\n",
    "\n",
    "Muestreador ideal\n",
    "```"
   ]
  },
  {
   "cell_type": "markdown",
   "id": "f39b4c0f-898a-4208-a5cb-35bf973e5dfd",
   "metadata": {
    "editable": true,
    "slideshow": {
     "slide_type": "slide"
    },
    "tags": []
   },
   "source": [
    "- $F_s$: frecuencia de muestreo [Hz]\n",
    "- $T=\\frac{1}{F_s}$: período de muestreo [seg]\n",
    "- consideramos *muestreo periódico o uniforme* $\\implies$ intervalos entre muestras sucesivas constante.\n",
    "\n",
    "```{important}\n",
    "\n",
    "Las variables $t$ y $n$ están relacionadas de acuerdo a:\n",
    "\n",
    "$$t=nT=\\frac{n}{F_s}$$\n",
    "```\n",
    "\n",
    "- Por lo tanto, la frecuencia $F$ (o $\\Omega$) de una señal periódica en Tiempo Continuo, estará relacionada con la frecuencia $f$ (o $\\omega$) de la correspondiente señal muestreada."
   ]
  },
  {
   "cell_type": "markdown",
   "id": "92eb4c40-fea6-44a7-9b43-1ac098cd2cc6",
   "metadata": {
    "editable": true,
    "slideshow": {
     "slide_type": "slide"
    },
    "tags": []
   },
   "source": [
    "- Consideremos que\n",
    "\n",
    "$$x_a(t)=A\\cos(2\\pi Ft+\\theta)$$\n",
    "\n",
    "es muestreada a $F_s=\\frac{1}{T}$"
   ]
  },
  {
   "cell_type": "markdown",
   "id": "0d253a9b-c826-414c-82ea-2c8319352c04",
   "metadata": {
    "editable": true,
    "slideshow": {
     "slide_type": "slide"
    },
    "tags": []
   },
   "source": [
    "entonces se tiene \n",
    "\n",
    "\\begin{align*}\n",
    "x(n)\\triangleq x_a(nT)&=A\\cos(2\\pi FnT+\\theta)\\\\\n",
    "&=A\\cos\\left(\\dfrac{2\\pi nF}{F_s}+\\theta\\right)\\\\\n",
    "&=A\\cos(2\\pi fn+\\theta)\n",
    "\\end{align*}\n",
    "\n",
    "donde:\n",
    "\n",
    "\\begin{align*}\n",
    "  \\Omega&=2\\pi F\\\\\n",
    "  \\omega&=2\\pi f\\\\ \n",
    "        &=\\frac{\\Omega}{F_s}=\\Omega T\n",
    "\\end{align*}"
   ]
  },
  {
   "cell_type": "markdown",
   "id": "5f479d05-aec3-44d0-b70f-65c004ae1518",
   "metadata": {
    "editable": true,
    "slideshow": {
     "slide_type": "slide"
    },
    "tags": []
   },
   "source": [
    "```{important}\n",
    "\n",
    "$$f=\\frac{F}{F_s} \\qquad \\omega=\\frac{\\Omega}{F_s}=\\Omega T$$\n",
    "\n",
    "\n",
    "donde $f$ es **la frecuencia normalizada o relativa**.\n",
    "```"
   ]
  },
  {
   "cell_type": "markdown",
   "id": "5d466267-0501-4ad7-afc5-e0b110edfef3",
   "metadata": {
    "editable": true,
    "slideshow": {
     "slide_type": "slide"
    },
    "tags": []
   },
   "source": [
    "En contraste con las señales sinusoidales en Tiempo Continuo, las señales senoidales en tiempo discreto verifican:\n",
    "\n",
    "- Una señal sinusoidal en Tiempo Discreto es periódica si y sólo si su frecuencia $f$ es un numero racional.\n",
    "    Por definición $x(n)$ es periódica si y solo si $\\exist$ $N>0$ tal que: $$x(n+N)=x(n)\\quad \\forall n$$\n",
    "   que se verifica si y sólo si:\n",
    "   \n",
    "   $$2\\pi fN=2\\pi k \\iff f=\\frac{k}{N}$$\n",
    "\n",
    "    El menor valor de $N$ que verifica esta propiedad se denomina **período fundamental**."
   ]
  },
  {
   "cell_type": "markdown",
   "id": "1a51d127-951a-492b-907d-2d2f3108bd6d",
   "metadata": {
    "editable": true,
    "slideshow": {
     "slide_type": "slide"
    },
    "tags": []
   },
   "source": [
    "   Para determinar el período fundamental $N$ de una senoide discreta, expresamos $f$ como cociente de dos números enteros primos relativos. Entonces el período $N$ es el denominador de esta expresión.\n",
    "\n",
    "   $$f_1=\\frac{30}{60}\\qquad \\text{próxima a} \\qquad f_2=\\frac{29}{60}$$\n",
    "   \n",
    "   $$N_1=2 \\qquad \\text{muy distinta} \\qquad N_2=60$$"
   ]
  },
  {
   "cell_type": "markdown",
   "id": "90075e4e-c941-4ee4-b4a4-9c4150d00a70",
   "metadata": {
    "editable": true,
    "slideshow": {
     "slide_type": "slide"
    },
    "tags": []
   },
   "source": [
    "- Señales sinusoidales en Tiempo Discreto cuyas frecuencias están separadas un múltiplo entero de $2\\pi$ son idénticas. \n",
    "\n",
    "    $$\\cos\\left[(\\omega + 2\\pi)n+\\theta\\right] = \\cos\\left[\\omega n + 2\\pi n + \\theta\\right] = \\cos\\left[\\omega n + \\theta\\right]$$\n",
    "\n",
    "Como consecuencia todas las secuencias de sinusoides \n",
    "\n",
    "$$x_k(n)=A\\cos(\\omega_k n+\\theta)$$\n",
    "\n",
    "donde: $\\omega_k=\\omega+2\\pi k$ son **indistinguibles (idénticas)**."
   ]
  },
  {
   "cell_type": "markdown",
   "id": "d78b2f8d-6db6-447b-820e-9c6a893b3f6a",
   "metadata": {
    "editable": true,
    "slideshow": {
     "slide_type": ""
    },
    "tags": []
   },
   "source": [
    "En particular, una sinusoide con frecuencia en el rango $|\\omega| >\\pi$ será equivalente a una sinusoide en el rango $|\\omega| \\leq \\pi ( | f |\\leq 0.5)$ y se la denomina un alias de la sinusoide en el rango $|\\omega| \\leq \\pi.$"
   ]
  },
  {
   "cell_type": "markdown",
   "id": "d383b245-e52f-4a62-a715-5599f807d52a",
   "metadata": {
    "editable": true,
    "slideshow": {
     "slide_type": ""
    },
    "tags": []
   },
   "source": [
    "```{important}\n",
    "El rango fundamental de frecuencias de señales en TD es entonces:\n",
    "\n",
    "$$\\pi\\leq\\omega\\leq\\pi$$\n",
    "$$-0.5\\leq f \\leq 0.5$$\n",
    "\n",
    "```"
   ]
  },
  {
   "cell_type": "markdown",
   "id": "ed304881-9cf5-4492-aa06-a824926cb39d",
   "metadata": {
    "editable": true,
    "slideshow": {
     "slide_type": "notes"
    },
    "tags": []
   },
   "source": [
    "Mientras que las señales en tiempo continuo es:\n",
    "\n",
    "$$-\\infty\\leq\\Omega\\leq\\infty$$\n",
    "$$-\\infty\\leq F\\leq\\infty$$"
   ]
  },
  {
   "cell_type": "markdown",
   "id": "dee4b821-349c-4c3b-b1ef-a958256dffd8",
   "metadata": {
    "editable": true,
    "slideshow": {
     "slide_type": "slide"
    },
    "tags": []
   },
   "source": [
    "- La máxima frecuencia de oscilación de una senoide en tiempo discreto es $\\omega=\\pi$ (o $f=0.5$)\n",
    "Consideremos que:\n",
    "\n",
    "$$f=\\frac{F}{F_s}$$\n",
    "\n",
    "y que $f_{max}=0.5$, que resulta que la máxima frecuencia $F_{max}$ de la señal que en tiempo discreto muestrearse con una frecuencia $F_s$ sin que se produzca aliasing es:\n",
    "\n",
    "$$f_{max}=\\frac{1}{2}=\\frac{F_{max}}{F_s} \\implies$$ \n",
    "\n",
    "```{important}\n",
    "\n",
    "$$F_{max}=\\frac{F_s}{2}$$\n",
    "\n",
    "```"
   ]
  },
  {
   "cell_type": "markdown",
   "id": "6fd056da-044e-433f-90b1-fbda2f397d15",
   "metadata": {
    "editable": true,
    "slideshow": {
     "slide_type": "notes"
    },
    "tags": []
   },
   "source": [
    "En otras palabras, para evitar que se produzca aliasing y de esa forma poder reconstruir una seañal a partir de las muestras debemos seleccionar:\n",
    "\n",
    "$$F_s>2F_{max}$$\n",
    "\n",
    "donde $F_{max}$ es la máxima frecuencia contenida en la señal analógica."
   ]
  },
  {
   "cell_type": "markdown",
   "id": "a7973c5c-333d-4710-a548-734a8be11742",
   "metadata": {
    "editable": true,
    "slideshow": {
     "slide_type": ""
    },
    "tags": []
   },
   "source": [
    "```{admonition} Teorema de muestreo\n",
    "\n",
    "Si la frecuencia más alta contenida en una señal análogica $x_a(t)$ es $F_{max} = B$ y la señal es muestreada con una frecuencia $F_s>F_{max}=2B$, entonces $x_a(t)$ puede ser exactamente recuperada a partir de las muestras como:\n",
    "\n",
    "$$x_a(t)=\\sum_{n=-\\infty}^{\\infty} x_a\\left(\\frac{v}{F_s}\\right)g\\left(t-\\frac{n}{F_s}\\right)$$\n",
    "```"
   ]
  },
  {
   "cell_type": "markdown",
   "id": "735aab48-ed05-46a5-81fd-c1f302aa6ba3",
   "metadata": {
    "editable": true,
    "slideshow": {
     "slide_type": "notes"
    },
    "tags": []
   },
   "source": [
    "donde \n",
    "\n",
    "$$x_a(\\frac{n}{F_s})\\triangleq x_a(nT)=x(n)$$\n",
    "\n",
    "son las muestras de $x_a(t)$ y $g(t)$ es la función de interpolación definida como\n",
    "\n",
    "$$g(t)=\\frac{\\sin(2\\pi Bt)}{2\\pi Bt}$$"
   ]
  },
  {
   "cell_type": "markdown",
   "id": "29dfbf67-e8ae-46f0-8fc2-f4dfab6a7d38",
   "metadata": {
    "editable": true,
    "slideshow": {
     "slide_type": ""
    },
    "tags": []
   },
   "source": [
    "**PONER FIGURA CON INTERPOLACION IDEAL - TEOREMA DE MUESTREO**\n",
    "\n",
    "```{admonition} Tasa de Muestreo de Nyquist\n",
    ":class: note\n",
    "A $F_N\\triangleq 2B$ se la denomina Tasa de muestreo de Nyquist\n",
    "```"
   ]
  },
  {
   "cell_type": "markdown",
   "id": "9e9acf3e-64fc-4257-936c-a3e08439bb4f",
   "metadata": {
    "editable": true,
    "slideshow": {
     "slide_type": ""
    },
    "tags": []
   },
   "source": [
    "### Ejemplo\n",
    "\n",
    "Determinar la tasa de muestreo de Nyquist \n",
    "\n",
    "$$x_a(t)=3\\cos(50\\pi t)+10\\sin(300\\pi t) -\\cos(100\\pi t)$$\n",
    "\n",
    "#### Solución\n",
    "\n",
    "$$F_1=25 Hz \\qquad F_2=150Hz \\qquad F_3=50Hz$$\n",
    "\n",
    "Veamos que $F_{max}=150Hz \\implies F_N=300Hz$\n",
    "\n",
    "Sin embargo, si muestreamos con $F_s=F_N$, las muestras de la componente \n",
    "\n",
    "$$10\\sin(300\\pi t) \\qquad \\text{resultan}\\qquad 10\\sin(\\pi n)$$\n",
    "\n",
    "que son idénticamente nulas y obvimanete no puede recuperarse la señal a partir de las muestras!!"
   ]
  },
  {
   "cell_type": "markdown",
   "id": "8c834f36-2c5a-47c2-aa3e-2dbd19548783",
   "metadata": {
    "editable": true,
    "slideshow": {
     "slide_type": ""
    },
    "tags": []
   },
   "source": [
    "### Ejemplo \n",
    "\n",
    "Supongamos que desea generar y graficar las señales en tiempo continuo $x_1(t)$ y $x_2(t)$ definidas como:\n",
    "\n",
    "\n",
    "\\begin{align*}\n",
    "x_1(t)&=\\cos(2\\pi 50t)\\\\\n",
    "x_2(t)&=\\cos(2\\pi 550t)\n",
    "\\end{align*}\n",
    "\n",
    "y las correspondientes señales en tiempo discreto que se obtienen muestreandolas con una frecuencia $F_s=500Hz$. Notas que las dos señales tienen la misma señal muestreada\n",
    "\n",
    "\n",
    "\\begin{align*}\n",
    "x_1(n)&=\\cos\\left(\\frac{2\\pi 50n}{500}\\right)\\\\\n",
    "x_2(n)&=\\cos\\left(\\frac{2\\pi 550n}{500}\\right)=\\cos\\left(2\\pi n + \\frac{2\\pi 50 n}{500}\\right)=x_1(n)\\\\\n",
    "\\end{align*}\n",
    "\n",
    "\n",
    "```{admonition} Nota\n",
    ":class: important\n",
    "$x_2(n)$ es un alias de $x_1(n)$.\n",
    "```"
   ]
  },
  {
   "cell_type": "markdown",
   "id": "c0263ae8-9fa7-40d5-990b-633a1a145d60",
   "metadata": {
    "editable": true,
    "slideshow": {
     "slide_type": ""
    },
    "tags": []
   },
   "source": [
    "Veamos el ejemplo en código, y grafiquemoslo:"
   ]
  },
  {
   "cell_type": "code",
   "execution_count": 3,
   "id": "3aa70734-5bbc-4901-9c0b-5778fd20bbaa",
   "metadata": {
    "editable": true,
    "slideshow": {
     "slide_type": ""
    },
    "tags": []
   },
   "outputs": [],
   "source": [
    "t=np.linspace(0,0.02, 20001, endpoint=True)\n",
    "n=np.linspace(0,10, 11, endpoint=True)\n",
    "x1=np.cos(2*np.pi*50*t)\n",
    "x2=np.cos(2*np.pi*550*t)"
   ]
  },
  {
   "cell_type": "code",
   "execution_count": 4,
   "id": "18705dad-9bea-4e43-af48-83d3f5ef58be",
   "metadata": {
    "editable": true,
    "slideshow": {
     "slide_type": ""
    },
    "tags": []
   },
   "outputs": [],
   "source": [
    "x1n=np.cos(2*np.pi*50/500*n)\n",
    "x2n=np.cos(2*np.pi*550/500*n)"
   ]
  },
  {
   "cell_type": "code",
   "execution_count": 5,
   "id": "9f0f53bb-5e70-4f1f-8bc8-dc6782c6a161",
   "metadata": {
    "editable": true,
    "slideshow": {
     "slide_type": ""
    },
    "tags": []
   },
   "outputs": [
    {
     "data": {
      "image/png": "[encoded data removed]",
      "text/plain": [
       "<Figure size 800x300 with 1 Axes>"
      ]
     },
     "metadata": {},
     "output_type": "display_data"
    }
   ],
   "source": [
    "f, ax=plt.subplots(1,1, figsize=(8,3))\n",
    "ax.plot(t, x1, color=\"b\", label=r\"$x_1(t)$\")\n",
    "ax.plot(t, x2, color=\"r\", ls=\"--\", label=r\"$x_2(t)$\")\n",
    "ax.scatter(n*0.002, x1n, marker=\"o\", facecolor=\"None\", edgecolor=\"b\", s=90, linewidths=2 , label=r\"$x_{1n}(t)$\") \n",
    "ax.scatter(n*0.002, x2n, marker=\"x\", color=\"r\", s=50, linewidths=3, label=r\"$x_{2n}(t)$\")\n",
    "plt.legend()\n",
    "ax.set_xlabel(\"Tiempo [seg]\")\n",
    "ax.set_ylabel(\"Amplitud\")\n",
    "ax.set_title(\"Señales $x_1(t)$ y $x_2(t)$ muestreadas: Aliasing\")\n",
    "ax.grid()"
   ]
  },
  {
   "cell_type": "code",
   "execution_count": null,
   "id": "66a4a306-7677-4875-96e2-22b490f7cbc0",
   "metadata": {
    "editable": true,
    "slideshow": {
     "slide_type": ""
    },
    "tags": []
   },
   "outputs": [],
   "source": []
  }
 ],
 "metadata": {
  "jupytext": {
   "formats": "ipynb,md:myst"
  },
  "kernelspec": {
   "display_name": "dsp",
   "language": "python",
   "name": "python3"
  },
  "language_info": {
   "codemirror_mode": {
    "name": "ipython",
    "version": 3
   },
   "file_extension": ".py",
   "mimetype": "text/x-python",
   "name": "python",
   "nbconvert_exporter": "python",
   "pygments_lexer": "ipython3",
   "version": "3.12.1"
  }
 },
 "nbformat": 4,
 "nbformat_minor": 5
}
